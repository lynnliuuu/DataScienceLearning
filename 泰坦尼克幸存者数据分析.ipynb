{
 "cells": [
  {
   "cell_type": "markdown",
   "metadata": {
    "collapsed": true
   },
   "source": [
    "### 目的：\n",
    "\n",
    "1. 找出泰坦尼克事故中，可能和生还状态相关的特征\n",
    "2. 根据特征建立模型，预测乘客是否生还\n",
    "\n",
    "\n",
    "数据集来自：https://www.kaggle.com/c/titanic\n"
   ]
  },
  {
   "cell_type": "code",
   "execution_count": 197,
   "metadata": {},
   "outputs": [],
   "source": [
    "import numpy as np\n",
    "import pandas as pd\n",
    "from scipy import stats as st\n",
    "\n",
    "import matplotlib.pyplot as plt\n",
    "import seaborn as sns\n",
    "%matplotlib inline"
   ]
  },
  {
   "cell_type": "code",
   "execution_count": 37,
   "metadata": {
    "scrolled": true
   },
   "outputs": [
    {
     "name": "stdout",
     "output_type": "stream",
     "text": [
      "<class 'pandas.core.frame.DataFrame'>\n",
      "RangeIndex: 891 entries, 0 to 890\n",
      "Data columns (total 12 columns):\n",
      "PassengerId    891 non-null int64\n",
      "Survived       891 non-null int64\n",
      "Pclass         891 non-null int64\n",
      "Name           891 non-null object\n",
      "Sex            891 non-null object\n",
      "Age            714 non-null float64\n",
      "SibSp          891 non-null int64\n",
      "Parch          891 non-null int64\n",
      "Ticket         891 non-null object\n",
      "Fare           891 non-null float64\n",
      "Cabin          204 non-null object\n",
      "Embarked       889 non-null object\n",
      "dtypes: float64(2), int64(5), object(5)\n",
      "memory usage: 83.6+ KB\n"
     ]
    }
   ],
   "source": [
    "# 先了解训练数据\n",
    "df = pd.read_csv('train.csv')\n",
    "df.info()"
   ]
  },
  {
   "cell_type": "markdown",
   "metadata": {},
   "source": [
    "##### 变量解释：\n",
    "- Survival: 是否生还  0 = No, 1 = Yes，是要预测的目标变量\n",
    "- Pclass: 座位等级，作为社会经济地位的代替指标\t1 = 上层阶级, 2 = 中层阶级, 3 = 下层阶级\n",
    "- Sex: 性别\n",
    "- Age: 年龄（year为单位，如果是估计年龄，形式为xx.5）\n",
    "- Sibsp: 船上的家庭成员数量，包括siblings（兄弟姊妹）/ spouses（配偶）\n",
    "- Parch: 船上的父母或孩子的数量；有些孩子由看护照看，所以parch=0\n",
    "- Ticket: 票号\n",
    "- Fare: 旅客票价\n",
    "- Cabin: 座舱号\t\n",
    "- Embarked: 出发港 C = Cherbourg, Q = Queenstown, S = Southampton\n",
    "\n",
    "\n",
    "##### 初步判断：\n",
    "1. Age年龄、Cabin座舱号、出发港Embarked有缺失值\n",
    "2. 根据日常经验，可以有如下预期：\n",
    "    - 性别上，女性比男性更有可能生还，男性可能倾向于保护女性\n",
    "    - 社会经济地位上，上层阶级更有可能生还\n",
    "    - 年龄上，青壮年更有生命力，更有可能生还，当然也有可能青壮年会为了保护年幼或年长者，生还率较低\n",
    "    - 家庭成员数也有影响，具体不太好猜测\n",
    "    - 票价越高者，可能生还率更高，与社会经济地位同理\n",
    "    - 出发港可能有影响，由于不太了解地理文化特征，不太好猜测\n"
   ]
  },
  {
   "cell_type": "code",
   "execution_count": 38,
   "metadata": {},
   "outputs": [
    {
     "data": {
      "text/html": [
       "<div>\n",
       "<style scoped>\n",
       "    .dataframe tbody tr th:only-of-type {\n",
       "        vertical-align: middle;\n",
       "    }\n",
       "\n",
       "    .dataframe tbody tr th {\n",
       "        vertical-align: top;\n",
       "    }\n",
       "\n",
       "    .dataframe thead th {\n",
       "        text-align: right;\n",
       "    }\n",
       "</style>\n",
       "<table border=\"1\" class=\"dataframe\">\n",
       "  <thead>\n",
       "    <tr style=\"text-align: right;\">\n",
       "      <th></th>\n",
       "      <th>PassengerId</th>\n",
       "      <th>Survived</th>\n",
       "      <th>Pclass</th>\n",
       "      <th>Name</th>\n",
       "      <th>Sex</th>\n",
       "      <th>Age</th>\n",
       "      <th>SibSp</th>\n",
       "      <th>Parch</th>\n",
       "      <th>Ticket</th>\n",
       "      <th>Fare</th>\n",
       "      <th>Cabin</th>\n",
       "      <th>Embarked</th>\n",
       "    </tr>\n",
       "  </thead>\n",
       "  <tbody>\n",
       "    <tr>\n",
       "      <th>0</th>\n",
       "      <td>1</td>\n",
       "      <td>0</td>\n",
       "      <td>3</td>\n",
       "      <td>Braund, Mr. Owen Harris</td>\n",
       "      <td>male</td>\n",
       "      <td>22.0</td>\n",
       "      <td>1</td>\n",
       "      <td>0</td>\n",
       "      <td>A/5 21171</td>\n",
       "      <td>7.2500</td>\n",
       "      <td>NaN</td>\n",
       "      <td>S</td>\n",
       "    </tr>\n",
       "    <tr>\n",
       "      <th>1</th>\n",
       "      <td>2</td>\n",
       "      <td>1</td>\n",
       "      <td>1</td>\n",
       "      <td>Cumings, Mrs. John Bradley (Florence Briggs Th...</td>\n",
       "      <td>female</td>\n",
       "      <td>38.0</td>\n",
       "      <td>1</td>\n",
       "      <td>0</td>\n",
       "      <td>PC 17599</td>\n",
       "      <td>71.2833</td>\n",
       "      <td>C85</td>\n",
       "      <td>C</td>\n",
       "    </tr>\n",
       "    <tr>\n",
       "      <th>2</th>\n",
       "      <td>3</td>\n",
       "      <td>1</td>\n",
       "      <td>3</td>\n",
       "      <td>Heikkinen, Miss. Laina</td>\n",
       "      <td>female</td>\n",
       "      <td>26.0</td>\n",
       "      <td>0</td>\n",
       "      <td>0</td>\n",
       "      <td>STON/O2. 3101282</td>\n",
       "      <td>7.9250</td>\n",
       "      <td>NaN</td>\n",
       "      <td>S</td>\n",
       "    </tr>\n",
       "    <tr>\n",
       "      <th>3</th>\n",
       "      <td>4</td>\n",
       "      <td>1</td>\n",
       "      <td>1</td>\n",
       "      <td>Futrelle, Mrs. Jacques Heath (Lily May Peel)</td>\n",
       "      <td>female</td>\n",
       "      <td>35.0</td>\n",
       "      <td>1</td>\n",
       "      <td>0</td>\n",
       "      <td>113803</td>\n",
       "      <td>53.1000</td>\n",
       "      <td>C123</td>\n",
       "      <td>S</td>\n",
       "    </tr>\n",
       "    <tr>\n",
       "      <th>4</th>\n",
       "      <td>5</td>\n",
       "      <td>0</td>\n",
       "      <td>3</td>\n",
       "      <td>Allen, Mr. William Henry</td>\n",
       "      <td>male</td>\n",
       "      <td>35.0</td>\n",
       "      <td>0</td>\n",
       "      <td>0</td>\n",
       "      <td>373450</td>\n",
       "      <td>8.0500</td>\n",
       "      <td>NaN</td>\n",
       "      <td>S</td>\n",
       "    </tr>\n",
       "    <tr>\n",
       "      <th>5</th>\n",
       "      <td>6</td>\n",
       "      <td>0</td>\n",
       "      <td>3</td>\n",
       "      <td>Moran, Mr. James</td>\n",
       "      <td>male</td>\n",
       "      <td>NaN</td>\n",
       "      <td>0</td>\n",
       "      <td>0</td>\n",
       "      <td>330877</td>\n",
       "      <td>8.4583</td>\n",
       "      <td>NaN</td>\n",
       "      <td>Q</td>\n",
       "    </tr>\n",
       "    <tr>\n",
       "      <th>6</th>\n",
       "      <td>7</td>\n",
       "      <td>0</td>\n",
       "      <td>1</td>\n",
       "      <td>McCarthy, Mr. Timothy J</td>\n",
       "      <td>male</td>\n",
       "      <td>54.0</td>\n",
       "      <td>0</td>\n",
       "      <td>0</td>\n",
       "      <td>17463</td>\n",
       "      <td>51.8625</td>\n",
       "      <td>E46</td>\n",
       "      <td>S</td>\n",
       "    </tr>\n",
       "    <tr>\n",
       "      <th>7</th>\n",
       "      <td>8</td>\n",
       "      <td>0</td>\n",
       "      <td>3</td>\n",
       "      <td>Palsson, Master. Gosta Leonard</td>\n",
       "      <td>male</td>\n",
       "      <td>2.0</td>\n",
       "      <td>3</td>\n",
       "      <td>1</td>\n",
       "      <td>349909</td>\n",
       "      <td>21.0750</td>\n",
       "      <td>NaN</td>\n",
       "      <td>S</td>\n",
       "    </tr>\n",
       "  </tbody>\n",
       "</table>\n",
       "</div>"
      ],
      "text/plain": [
       "   PassengerId  Survived  Pclass  \\\n",
       "0            1         0       3   \n",
       "1            2         1       1   \n",
       "2            3         1       3   \n",
       "3            4         1       1   \n",
       "4            5         0       3   \n",
       "5            6         0       3   \n",
       "6            7         0       1   \n",
       "7            8         0       3   \n",
       "\n",
       "                                                Name     Sex   Age  SibSp  \\\n",
       "0                            Braund, Mr. Owen Harris    male  22.0      1   \n",
       "1  Cumings, Mrs. John Bradley (Florence Briggs Th...  female  38.0      1   \n",
       "2                             Heikkinen, Miss. Laina  female  26.0      0   \n",
       "3       Futrelle, Mrs. Jacques Heath (Lily May Peel)  female  35.0      1   \n",
       "4                           Allen, Mr. William Henry    male  35.0      0   \n",
       "5                                   Moran, Mr. James    male   NaN      0   \n",
       "6                            McCarthy, Mr. Timothy J    male  54.0      0   \n",
       "7                     Palsson, Master. Gosta Leonard    male   2.0      3   \n",
       "\n",
       "   Parch            Ticket     Fare Cabin Embarked  \n",
       "0      0         A/5 21171   7.2500   NaN        S  \n",
       "1      0          PC 17599  71.2833   C85        C  \n",
       "2      0  STON/O2. 3101282   7.9250   NaN        S  \n",
       "3      0            113803  53.1000  C123        S  \n",
       "4      0            373450   8.0500   NaN        S  \n",
       "5      0            330877   8.4583   NaN        Q  \n",
       "6      0             17463  51.8625   E46        S  \n",
       "7      1            349909  21.0750   NaN        S  "
      ]
     },
     "execution_count": 38,
     "metadata": {},
     "output_type": "execute_result"
    }
   ],
   "source": [
    "df.head(8)"
   ]
  },
  {
   "cell_type": "markdown",
   "metadata": {},
   "source": [
    "#### 查看性别与生还状态的关系"
   ]
  },
  {
   "cell_type": "code",
   "execution_count": 39,
   "metadata": {},
   "outputs": [
    {
     "data": {
      "text/plain": [
       "Survived\n",
       "0    549\n",
       "1    342\n",
       "Name: PassengerId, dtype: int64"
      ]
     },
     "execution_count": 39,
     "metadata": {},
     "output_type": "execute_result"
    }
   ],
   "source": [
    "df.groupby(['Survived'])['PassengerId'].count()"
   ]
  },
  {
   "cell_type": "code",
   "execution_count": 40,
   "metadata": {},
   "outputs": [
    {
     "data": {
      "text/html": [
       "<div>\n",
       "<style scoped>\n",
       "    .dataframe tbody tr th:only-of-type {\n",
       "        vertical-align: middle;\n",
       "    }\n",
       "\n",
       "    .dataframe tbody tr th {\n",
       "        vertical-align: top;\n",
       "    }\n",
       "\n",
       "    .dataframe thead tr th {\n",
       "        text-align: left;\n",
       "    }\n",
       "\n",
       "    .dataframe thead tr:last-of-type th {\n",
       "        text-align: right;\n",
       "    }\n",
       "</style>\n",
       "<table border=\"1\" class=\"dataframe\">\n",
       "  <thead>\n",
       "    <tr>\n",
       "      <th></th>\n",
       "      <th colspan=\"2\" halign=\"left\">count_nonzero</th>\n",
       "    </tr>\n",
       "    <tr>\n",
       "      <th></th>\n",
       "      <th colspan=\"2\" halign=\"left\">PassengerId</th>\n",
       "    </tr>\n",
       "    <tr>\n",
       "      <th>Survived</th>\n",
       "      <th>0</th>\n",
       "      <th>1</th>\n",
       "    </tr>\n",
       "    <tr>\n",
       "      <th>Sex</th>\n",
       "      <th></th>\n",
       "      <th></th>\n",
       "    </tr>\n",
       "  </thead>\n",
       "  <tbody>\n",
       "    <tr>\n",
       "      <th>female</th>\n",
       "      <td>81</td>\n",
       "      <td>233</td>\n",
       "    </tr>\n",
       "    <tr>\n",
       "      <th>male</th>\n",
       "      <td>468</td>\n",
       "      <td>109</td>\n",
       "    </tr>\n",
       "  </tbody>\n",
       "</table>\n",
       "</div>"
      ],
      "text/plain": [
       "         count_nonzero     \n",
       "           PassengerId     \n",
       "Survived             0    1\n",
       "Sex                        \n",
       "female              81  233\n",
       "male               468  109"
      ]
     },
     "execution_count": 40,
     "metadata": {},
     "output_type": "execute_result"
    }
   ],
   "source": [
    "pd.pivot_table(df,index=['Sex'],columns=['Survived'], values = ['PassengerId'],\\\n",
    "               aggfunc=[np.count_nonzero])"
   ]
  },
  {
   "cell_type": "code",
   "execution_count": 41,
   "metadata": {},
   "outputs": [
    {
     "data": {
      "text/plain": [
       "(260.71702016732104,\n",
       " 1.1973570627755645e-58,\n",
       " array([[ 193.47474747,  120.52525253],\n",
       "        [ 355.52525253,  221.47474747]]))"
      ]
     },
     "execution_count": 41,
     "metadata": {},
     "output_type": "execute_result"
    }
   ],
   "source": [
    "# 性别与生还状态的卡方独立性检验\n",
    "core_sex = np.array([[81, 233],\n",
    "                   [468, 109]])\n",
    "\n",
    "chi_2, p, d_f, hypo = st.chi2_contingency(core_sex)\n",
    "chi_2, p, hypo"
   ]
  },
  {
   "cell_type": "markdown",
   "metadata": {},
   "source": [
    "- 卡方值260，p值明显小于0.001，偏离独立假设下的预期值，可以说性别与生还状态之间显著不独立\n",
    "- 女性的生还比率显著高于男性"
   ]
  },
  {
   "cell_type": "markdown",
   "metadata": {},
   "source": [
    "#### 查看社会阶级地位与生还状态的关系"
   ]
  },
  {
   "cell_type": "code",
   "execution_count": 42,
   "metadata": {},
   "outputs": [
    {
     "data": {
      "text/html": [
       "<div>\n",
       "<style scoped>\n",
       "    .dataframe tbody tr th:only-of-type {\n",
       "        vertical-align: middle;\n",
       "    }\n",
       "\n",
       "    .dataframe tbody tr th {\n",
       "        vertical-align: top;\n",
       "    }\n",
       "\n",
       "    .dataframe thead tr th {\n",
       "        text-align: left;\n",
       "    }\n",
       "\n",
       "    .dataframe thead tr:last-of-type th {\n",
       "        text-align: right;\n",
       "    }\n",
       "</style>\n",
       "<table border=\"1\" class=\"dataframe\">\n",
       "  <thead>\n",
       "    <tr>\n",
       "      <th></th>\n",
       "      <th colspan=\"2\" halign=\"left\">count_nonzero</th>\n",
       "    </tr>\n",
       "    <tr>\n",
       "      <th></th>\n",
       "      <th colspan=\"2\" halign=\"left\">PassengerId</th>\n",
       "    </tr>\n",
       "    <tr>\n",
       "      <th>Survived</th>\n",
       "      <th>0</th>\n",
       "      <th>1</th>\n",
       "    </tr>\n",
       "    <tr>\n",
       "      <th>Pclass</th>\n",
       "      <th></th>\n",
       "      <th></th>\n",
       "    </tr>\n",
       "  </thead>\n",
       "  <tbody>\n",
       "    <tr>\n",
       "      <th>1</th>\n",
       "      <td>80</td>\n",
       "      <td>136</td>\n",
       "    </tr>\n",
       "    <tr>\n",
       "      <th>2</th>\n",
       "      <td>97</td>\n",
       "      <td>87</td>\n",
       "    </tr>\n",
       "    <tr>\n",
       "      <th>3</th>\n",
       "      <td>372</td>\n",
       "      <td>119</td>\n",
       "    </tr>\n",
       "  </tbody>\n",
       "</table>\n",
       "</div>"
      ],
      "text/plain": [
       "         count_nonzero     \n",
       "           PassengerId     \n",
       "Survived             0    1\n",
       "Pclass                     \n",
       "1                   80  136\n",
       "2                   97   87\n",
       "3                  372  119"
      ]
     },
     "execution_count": 42,
     "metadata": {},
     "output_type": "execute_result"
    }
   ],
   "source": [
    "pd.pivot_table(df,index=['Pclass'],columns=['Survived'], values = ['PassengerId'],\\\n",
    "               aggfunc=[np.count_nonzero])"
   ]
  },
  {
   "cell_type": "code",
   "execution_count": 43,
   "metadata": {
    "scrolled": true
   },
   "outputs": [
    {
     "data": {
      "text/plain": [
       "(102.88898875696056,\n",
       " 4.5492517112987927e-23,\n",
       " array([[ 133.09090909,   82.90909091],\n",
       "        [ 113.37373737,   70.62626263],\n",
       "        [ 302.53535354,  188.46464646]]))"
      ]
     },
     "execution_count": 43,
     "metadata": {},
     "output_type": "execute_result"
    }
   ],
   "source": [
    "# 对社会阶级与幸存状态进行卡方独立性检验\n",
    "core_pclass = np.array([[80, 136],\n",
    "                        [97, 87],\n",
    "                        [372, 119]])\n",
    "\n",
    "chi_2, p, d_f, hypo = st.chi2_contingency(core_pclass)\n",
    "chi_2, p, hypo"
   ]
  },
  {
   "cell_type": "markdown",
   "metadata": {},
   "source": [
    "- p值很小，可以说社会阶级与幸存状态不是独立的\n",
    "- 上层阶级的生还率高于预期很多，中层阶级生还率略高于预期，下层阶级生还率低于预期"
   ]
  },
  {
   "cell_type": "markdown",
   "metadata": {},
   "source": [
    "#### 查看年龄和生还状态的关系"
   ]
  },
  {
   "cell_type": "code",
   "execution_count": 44,
   "metadata": {
    "scrolled": true
   },
   "outputs": [],
   "source": [
    "# 探索年龄和生还状态的关系, 注意年龄本身有缺失值估计的值\n",
    "# 查看年龄分布\n",
    "df_new = df[df['Age'].notnull()]\n",
    "\n",
    "age_sur = df_new[df_new['Survived']==1]\n",
    "age_notsur = df_new[df_new['Survived']==0]\n"
   ]
  },
  {
   "cell_type": "code",
   "execution_count": 45,
   "metadata": {
    "scrolled": true
   },
   "outputs": [
    {
     "data": {
      "image/png": "[encoded data removed]",
      "text/plain": [
       "<matplotlib.figure.Figure at 0x1a1ddefc50>"
      ]
     },
     "metadata": {},
     "output_type": "display_data"
    }
   ],
   "source": [
    "fig = plt.figure(figsize=(22,12))\n",
    "\n",
    "ax1 = plt.subplot(221)\n",
    "ax1.hist(df_new['Age'], bins=200)\n",
    "ax1.set_xticks(np.linspace(0,80,41)) \n",
    "ax1.set_yticks(np.linspace(0,30,16)) \n",
    "plt.title('Age Hist')\n",
    "plt.xlabel('Age')\n",
    "plt.ylabel('Count')\n",
    "\n",
    "ax2 = plt.subplot(222)\n",
    "ax2.scatter(df_new['Age'], df_new['Survived'], alpha = 0.1)\n",
    "ax2.set_xticks(np.linspace(0,80,41)) \n",
    "plt.title('Age * Survived Scatter')\n",
    "plt.xlabel('Age')\n",
    "plt.ylabel('Survived')\n",
    "\n",
    "ax3 = plt.subplot(223)\n",
    "ax3.hist(age_sur['Age'], bins=200)\n",
    "ax3.set_xticks(np.linspace(0,80,41)) \n",
    "ax3.set_yticks(np.linspace(0,30,16)) \n",
    "plt.title('Survived_Age Hist')\n",
    "plt.xlabel('Age')\n",
    "plt.ylabel('Count')\n",
    "\n",
    "ax4 = plt.subplot(224)\n",
    "ax4.hist(age_notsur['Age'], bins=200)\n",
    "ax4.set_xticks(np.linspace(0,80,41)) \n",
    "ax4.set_yticks(np.linspace(0,30,16)) \n",
    "plt.title('NonSurvived_Age Hist')\n",
    "plt.xlabel('Age')\n",
    "plt.ylabel('Count')\n",
    "\n",
    "plt.show()"
   ]
  },
  {
   "cell_type": "markdown",
   "metadata": {},
   "source": [
    "##### 以上非空年龄得出的图中，可以看出：\n",
    "\n",
    "- 年龄总体是右偏分布\n",
    "- 24岁左右的人最多；16岁以下儿童少，55岁以上老人也少；\n",
    "- 右图中，16岁以下的倾向于生还；16到48岁之间的总体倾向于遇难，特别是16到31岁之间，生还比率看起来是最低的；48到64岁生还和遇难者人数看起来差不太多；高于64岁的略倾向于遇难，不过年纪最大的那个80岁老人奇迹般生还了\n",
    "- 一种主观猜测：可能16到48岁的人，更多为了营救其他年龄段的人而牺牲"
   ]
  },
  {
   "cell_type": "code",
   "execution_count": 46,
   "metadata": {},
   "outputs": [
    {
     "data": {
      "text/plain": [
       "(0.9814548492431641, 7.322165629375377e-08)"
      ]
     },
     "execution_count": 46,
     "metadata": {},
     "output_type": "execute_result"
    }
   ],
   "source": [
    "# 检验年龄是否属于正态分布\n",
    "w, p = st.shapiro(df_new['Age'])\n",
    "w, p "
   ]
  },
  {
   "cell_type": "markdown",
   "metadata": {},
   "source": [
    "- p值很小，可以说年龄不是正态分布，所以也没有办法严格检验生还者年龄和遇难者年龄均值的差异性\n",
    "- 后续考虑将年龄按照上述分布特征分成几个年龄段"
   ]
  },
  {
   "cell_type": "code",
   "execution_count": 47,
   "metadata": {},
   "outputs": [
    {
     "data": {
      "text/html": [
       "<div>\n",
       "<style scoped>\n",
       "    .dataframe tbody tr th:only-of-type {\n",
       "        vertical-align: middle;\n",
       "    }\n",
       "\n",
       "    .dataframe tbody tr th {\n",
       "        vertical-align: top;\n",
       "    }\n",
       "\n",
       "    .dataframe thead th {\n",
       "        text-align: right;\n",
       "    }\n",
       "</style>\n",
       "<table border=\"1\" class=\"dataframe\">\n",
       "  <thead>\n",
       "    <tr style=\"text-align: right;\">\n",
       "      <th></th>\n",
       "      <th>PassengerId</th>\n",
       "      <th>Survived</th>\n",
       "      <th>Pclass</th>\n",
       "      <th>Name</th>\n",
       "      <th>Sex</th>\n",
       "      <th>Age</th>\n",
       "      <th>SibSp</th>\n",
       "      <th>Parch</th>\n",
       "      <th>Ticket</th>\n",
       "      <th>Fare</th>\n",
       "      <th>Cabin</th>\n",
       "      <th>Embarked</th>\n",
       "    </tr>\n",
       "  </thead>\n",
       "  <tbody>\n",
       "    <tr>\n",
       "      <th>630</th>\n",
       "      <td>631</td>\n",
       "      <td>1</td>\n",
       "      <td>1</td>\n",
       "      <td>Barkworth, Mr. Algernon Henry Wilson</td>\n",
       "      <td>male</td>\n",
       "      <td>80.0</td>\n",
       "      <td>0</td>\n",
       "      <td>0</td>\n",
       "      <td>27042</td>\n",
       "      <td>30.0</td>\n",
       "      <td>A23</td>\n",
       "      <td>S</td>\n",
       "    </tr>\n",
       "  </tbody>\n",
       "</table>\n",
       "</div>"
      ],
      "text/plain": [
       "     PassengerId  Survived  Pclass                                  Name  \\\n",
       "630          631         1       1  Barkworth, Mr. Algernon Henry Wilson   \n",
       "\n",
       "      Sex   Age  SibSp  Parch Ticket  Fare Cabin Embarked  \n",
       "630  male  80.0      0      0  27042  30.0   A23        S  "
      ]
     },
     "execution_count": 47,
     "metadata": {},
     "output_type": "execute_result"
    }
   ],
   "source": [
    "# 查看这位幸存的老人\n",
    "# 之后可能考虑将这位老人作为年龄的异常值去除\n",
    "df[df['Age'] > 79]"
   ]
  },
  {
   "cell_type": "code",
   "execution_count": 48,
   "metadata": {
    "scrolled": true
   },
   "outputs": [
    {
     "name": "stdout",
     "output_type": "stream",
     "text": [
      "         median      \n",
      "Survived      0     1\n",
      "Age        28.0  28.0\n",
      "               mean          \n",
      "Survived          0         1\n",
      "Age       30.626179  28.34369\n"
     ]
    }
   ],
   "source": [
    "print pd.pivot_table(df_new,columns=['Survived'], values = ['Age'], aggfunc=[np.median])\n",
    "print pd.pivot_table(df_new,columns=['Survived'], values = ['Age'], aggfunc=[np.mean])"
   ]
  },
  {
   "cell_type": "markdown",
   "metadata": {},
   "source": [
    "- 遇难者和生还者，中位数一致，都是28，所以可以直接用这个中值填补缺失值\n",
    "- 均值差异看起来也不算太大，所以可以暂且保留上面那位年龄最高的老人的数据"
   ]
  },
  {
   "cell_type": "markdown",
   "metadata": {},
   "source": [
    "#### 查看票价和生还状态的关系\n",
    "\n"
   ]
  },
  {
   "cell_type": "code",
   "execution_count": 49,
   "metadata": {
    "scrolled": false
   },
   "outputs": [
    {
     "name": "stderr",
     "output_type": "stream",
     "text": [
      "/Users/ly11/anaconda2/lib/python2.7/site-packages/ipykernel_launcher.py:10: RuntimeWarning: divide by zero encountered in log10\n",
      "  # Remove the CWD from sys.path while we load stuff.\n",
      "/Users/ly11/anaconda2/lib/python2.7/site-packages/ipykernel_launcher.py:22: RuntimeWarning: divide by zero encountered in log10\n"
     ]
    },
    {
     "data": {
      "image/png": "[encoded data removed]",
      "text/plain": [
       "<matplotlib.figure.Figure at 0x1a1df1df10>"
      ]
     },
     "metadata": {},
     "output_type": "display_data"
    }
   ],
   "source": [
    "# 探索旅客票价Fare与生还状态的关系\n",
    "fig = plt.figure(figsize=(18,10))\n",
    "\n",
    "ax1 = plt.subplot(221)\n",
    "ax1.hist(df['Fare'],bins=200)\n",
    "plt.title('Fare Hist')\n",
    "plt.xlabel('Fare')\n",
    "\n",
    "ax2 = plt.subplot(222)\n",
    "ax2.boxplot(np.log10(df['Fare']))\n",
    "plt.title('log10(Fare) Box')\n",
    "plt.xlabel('log10(Fare)')\n",
    "\n",
    "ax3 = plt.subplot(223)\n",
    "ax3.scatter(df['Fare'], df['Survived'], alpha = 0.1)\n",
    "#ax3.set_xticks(np.linspace(0,80,17)) \n",
    "plt.title('Fare * Survived Scatter')\n",
    "plt.xlabel('Fare')\n",
    "plt.ylabel('Survived')\n",
    "\n",
    "ax4 = plt.subplot(224)\n",
    "ax4.scatter(np.log10(df['Fare']), df['Survived'], alpha = 0.1)\n",
    "#ax3.set_xticks(np.linspace(0,80,17)) \n",
    "plt.title('log10(Fare) * Survived Scatter')\n",
    "plt.xlabel('log10(Fare)')\n",
    "plt.ylabel('Survived')\n",
    "plt.show()"
   ]
  },
  {
   "cell_type": "code",
   "execution_count": 50,
   "metadata": {},
   "outputs": [
    {
     "data": {
      "text/plain": [
       "44.6683592150963"
      ]
     },
     "execution_count": 50,
     "metadata": {},
     "output_type": "execute_result"
    }
   ],
   "source": [
    "10**1.65"
   ]
  },
  {
   "cell_type": "markdown",
   "metadata": {},
   "source": [
    "- Fare总体和生还状态关系貌似不大; 不过Fare高于45的似乎略倾向于生还,低于45的略倾向于遇难\n",
    "- 后续考虑可以将Fare按照百分位数等分为几组"
   ]
  },
  {
   "cell_type": "code",
   "execution_count": 51,
   "metadata": {
    "scrolled": true
   },
   "outputs": [
    {
     "data": {
      "text/html": [
       "<div>\n",
       "<style scoped>\n",
       "    .dataframe tbody tr th:only-of-type {\n",
       "        vertical-align: middle;\n",
       "    }\n",
       "\n",
       "    .dataframe tbody tr th {\n",
       "        vertical-align: top;\n",
       "    }\n",
       "\n",
       "    .dataframe thead th {\n",
       "        text-align: right;\n",
       "    }\n",
       "</style>\n",
       "<table border=\"1\" class=\"dataframe\">\n",
       "  <thead>\n",
       "    <tr style=\"text-align: right;\">\n",
       "      <th></th>\n",
       "      <th>PassengerId</th>\n",
       "      <th>Survived</th>\n",
       "      <th>Pclass</th>\n",
       "      <th>Name</th>\n",
       "      <th>Sex</th>\n",
       "      <th>Age</th>\n",
       "      <th>SibSp</th>\n",
       "      <th>Parch</th>\n",
       "      <th>Ticket</th>\n",
       "      <th>Fare</th>\n",
       "      <th>Cabin</th>\n",
       "      <th>Embarked</th>\n",
       "    </tr>\n",
       "  </thead>\n",
       "  <tbody>\n",
       "    <tr>\n",
       "      <th>258</th>\n",
       "      <td>259</td>\n",
       "      <td>1</td>\n",
       "      <td>1</td>\n",
       "      <td>Ward, Miss. Anna</td>\n",
       "      <td>female</td>\n",
       "      <td>35.0</td>\n",
       "      <td>0</td>\n",
       "      <td>0</td>\n",
       "      <td>PC 17755</td>\n",
       "      <td>512.3292</td>\n",
       "      <td>NaN</td>\n",
       "      <td>C</td>\n",
       "    </tr>\n",
       "    <tr>\n",
       "      <th>679</th>\n",
       "      <td>680</td>\n",
       "      <td>1</td>\n",
       "      <td>1</td>\n",
       "      <td>Cardeza, Mr. Thomas Drake Martinez</td>\n",
       "      <td>male</td>\n",
       "      <td>36.0</td>\n",
       "      <td>0</td>\n",
       "      <td>1</td>\n",
       "      <td>PC 17755</td>\n",
       "      <td>512.3292</td>\n",
       "      <td>B51 B53 B55</td>\n",
       "      <td>C</td>\n",
       "    </tr>\n",
       "    <tr>\n",
       "      <th>737</th>\n",
       "      <td>738</td>\n",
       "      <td>1</td>\n",
       "      <td>1</td>\n",
       "      <td>Lesurer, Mr. Gustave J</td>\n",
       "      <td>male</td>\n",
       "      <td>35.0</td>\n",
       "      <td>0</td>\n",
       "      <td>0</td>\n",
       "      <td>PC 17755</td>\n",
       "      <td>512.3292</td>\n",
       "      <td>B101</td>\n",
       "      <td>C</td>\n",
       "    </tr>\n",
       "  </tbody>\n",
       "</table>\n",
       "</div>"
      ],
      "text/plain": [
       "     PassengerId  Survived  Pclass                                Name  \\\n",
       "258          259         1       1                    Ward, Miss. Anna   \n",
       "679          680         1       1  Cardeza, Mr. Thomas Drake Martinez   \n",
       "737          738         1       1              Lesurer, Mr. Gustave J   \n",
       "\n",
       "        Sex   Age  SibSp  Parch    Ticket      Fare        Cabin Embarked  \n",
       "258  female  35.0      0      0  PC 17755  512.3292          NaN        C  \n",
       "679    male  36.0      0      1  PC 17755  512.3292  B51 B53 B55        C  \n",
       "737    male  35.0      0      0  PC 17755  512.3292         B101        C  "
      ]
     },
     "execution_count": 51,
     "metadata": {},
     "output_type": "execute_result"
    }
   ],
   "source": [
    "df[df['Fare'] > 500]"
   ]
  },
  {
   "cell_type": "markdown",
   "metadata": {},
   "source": [
    "#### 查看兄弟姐妹数量和生还状态的关系"
   ]
  },
  {
   "cell_type": "code",
   "execution_count": 52,
   "metadata": {},
   "outputs": [
    {
     "data": {
      "text/html": [
       "<div>\n",
       "<style scoped>\n",
       "    .dataframe tbody tr th:only-of-type {\n",
       "        vertical-align: middle;\n",
       "    }\n",
       "\n",
       "    .dataframe tbody tr th {\n",
       "        vertical-align: top;\n",
       "    }\n",
       "\n",
       "    .dataframe thead tr th {\n",
       "        text-align: left;\n",
       "    }\n",
       "\n",
       "    .dataframe thead tr:last-of-type th {\n",
       "        text-align: right;\n",
       "    }\n",
       "</style>\n",
       "<table border=\"1\" class=\"dataframe\">\n",
       "  <thead>\n",
       "    <tr>\n",
       "      <th></th>\n",
       "      <th colspan=\"2\" halign=\"left\">count_nonzero</th>\n",
       "    </tr>\n",
       "    <tr>\n",
       "      <th></th>\n",
       "      <th colspan=\"2\" halign=\"left\">PassengerId</th>\n",
       "    </tr>\n",
       "    <tr>\n",
       "      <th>Survived</th>\n",
       "      <th>0</th>\n",
       "      <th>1</th>\n",
       "    </tr>\n",
       "    <tr>\n",
       "      <th>SibSp</th>\n",
       "      <th></th>\n",
       "      <th></th>\n",
       "    </tr>\n",
       "  </thead>\n",
       "  <tbody>\n",
       "    <tr>\n",
       "      <th>0</th>\n",
       "      <td>398.0</td>\n",
       "      <td>210.0</td>\n",
       "    </tr>\n",
       "    <tr>\n",
       "      <th>1</th>\n",
       "      <td>97.0</td>\n",
       "      <td>112.0</td>\n",
       "    </tr>\n",
       "    <tr>\n",
       "      <th>2</th>\n",
       "      <td>15.0</td>\n",
       "      <td>13.0</td>\n",
       "    </tr>\n",
       "    <tr>\n",
       "      <th>3</th>\n",
       "      <td>12.0</td>\n",
       "      <td>4.0</td>\n",
       "    </tr>\n",
       "    <tr>\n",
       "      <th>4</th>\n",
       "      <td>15.0</td>\n",
       "      <td>3.0</td>\n",
       "    </tr>\n",
       "    <tr>\n",
       "      <th>5</th>\n",
       "      <td>5.0</td>\n",
       "      <td>0.0</td>\n",
       "    </tr>\n",
       "    <tr>\n",
       "      <th>8</th>\n",
       "      <td>7.0</td>\n",
       "      <td>0.0</td>\n",
       "    </tr>\n",
       "  </tbody>\n",
       "</table>\n",
       "</div>"
      ],
      "text/plain": [
       "         count_nonzero       \n",
       "           PassengerId       \n",
       "Survived             0      1\n",
       "SibSp                        \n",
       "0                398.0  210.0\n",
       "1                 97.0  112.0\n",
       "2                 15.0   13.0\n",
       "3                 12.0    4.0\n",
       "4                 15.0    3.0\n",
       "5                  5.0    0.0\n",
       "8                  7.0    0.0"
      ]
     },
     "execution_count": 52,
     "metadata": {},
     "output_type": "execute_result"
    }
   ],
   "source": [
    "cont_SibSp = pd.pivot_table(df,index=['SibSp'],columns=['Survived'], values = ['PassengerId'],\\\n",
    "               aggfunc=[np.count_nonzero]).fillna(0)\n",
    "cont_SibSp"
   ]
  },
  {
   "cell_type": "code",
   "execution_count": 53,
   "metadata": {},
   "outputs": [
    {
     "data": {
      "text/plain": [
       "(37.271792915204301,\n",
       " 1.5585810465902147e-06,\n",
       " array([[ 374.62626263,  233.37373737],\n",
       "        [ 128.77777778,   80.22222222],\n",
       "        [  17.25252525,   10.74747475],\n",
       "        [   9.85858586,    6.14141414],\n",
       "        [  11.09090909,    6.90909091],\n",
       "        [   3.08080808,    1.91919192],\n",
       "        [   4.31313131,    2.68686869]]))"
      ]
     },
     "execution_count": 53,
     "metadata": {},
     "output_type": "execute_result"
    }
   ],
   "source": [
    "core_SibSp = cont_SibSp.values\n",
    "chi_2, p, d_f, hypo = st.chi2_contingency(core_SibSp)\n",
    "chi_2, p, hypo"
   ]
  },
  {
   "cell_type": "markdown",
   "metadata": {},
   "source": [
    "- 总体上看兄弟姊妹多的，生还率反而不高\n",
    "- 但比较突出的是，有1个兄弟姐妹的，生还率更高；有0个或更多兄弟姐妹的，生还率都是更低；\n",
    "- 添加一个SibSp_is1的新特征，如果等于1，为1=Yes；否则为0=No"
   ]
  },
  {
   "cell_type": "code",
   "execution_count": 54,
   "metadata": {},
   "outputs": [
    {
     "data": {
      "text/html": [
       "<div>\n",
       "<style scoped>\n",
       "    .dataframe tbody tr th:only-of-type {\n",
       "        vertical-align: middle;\n",
       "    }\n",
       "\n",
       "    .dataframe tbody tr th {\n",
       "        vertical-align: top;\n",
       "    }\n",
       "\n",
       "    .dataframe thead th {\n",
       "        text-align: right;\n",
       "    }\n",
       "</style>\n",
       "<table border=\"1\" class=\"dataframe\">\n",
       "  <thead>\n",
       "    <tr style=\"text-align: right;\">\n",
       "      <th></th>\n",
       "      <th>PassengerId</th>\n",
       "      <th>Survived</th>\n",
       "      <th>Pclass</th>\n",
       "      <th>Name</th>\n",
       "      <th>Sex</th>\n",
       "      <th>Age</th>\n",
       "      <th>SibSp</th>\n",
       "      <th>Parch</th>\n",
       "      <th>Ticket</th>\n",
       "      <th>Fare</th>\n",
       "      <th>Cabin</th>\n",
       "      <th>Embarked</th>\n",
       "      <th>SibSp_is1</th>\n",
       "    </tr>\n",
       "  </thead>\n",
       "  <tbody>\n",
       "    <tr>\n",
       "      <th>0</th>\n",
       "      <td>1</td>\n",
       "      <td>0</td>\n",
       "      <td>3</td>\n",
       "      <td>Braund, Mr. Owen Harris</td>\n",
       "      <td>male</td>\n",
       "      <td>22.0</td>\n",
       "      <td>1</td>\n",
       "      <td>0</td>\n",
       "      <td>A/5 21171</td>\n",
       "      <td>7.2500</td>\n",
       "      <td>NaN</td>\n",
       "      <td>S</td>\n",
       "      <td>1</td>\n",
       "    </tr>\n",
       "    <tr>\n",
       "      <th>1</th>\n",
       "      <td>2</td>\n",
       "      <td>1</td>\n",
       "      <td>1</td>\n",
       "      <td>Cumings, Mrs. John Bradley (Florence Briggs Th...</td>\n",
       "      <td>female</td>\n",
       "      <td>38.0</td>\n",
       "      <td>1</td>\n",
       "      <td>0</td>\n",
       "      <td>PC 17599</td>\n",
       "      <td>71.2833</td>\n",
       "      <td>C85</td>\n",
       "      <td>C</td>\n",
       "      <td>1</td>\n",
       "    </tr>\n",
       "    <tr>\n",
       "      <th>2</th>\n",
       "      <td>3</td>\n",
       "      <td>1</td>\n",
       "      <td>3</td>\n",
       "      <td>Heikkinen, Miss. Laina</td>\n",
       "      <td>female</td>\n",
       "      <td>26.0</td>\n",
       "      <td>0</td>\n",
       "      <td>0</td>\n",
       "      <td>STON/O2. 3101282</td>\n",
       "      <td>7.9250</td>\n",
       "      <td>NaN</td>\n",
       "      <td>S</td>\n",
       "      <td>0</td>\n",
       "    </tr>\n",
       "    <tr>\n",
       "      <th>3</th>\n",
       "      <td>4</td>\n",
       "      <td>1</td>\n",
       "      <td>1</td>\n",
       "      <td>Futrelle, Mrs. Jacques Heath (Lily May Peel)</td>\n",
       "      <td>female</td>\n",
       "      <td>35.0</td>\n",
       "      <td>1</td>\n",
       "      <td>0</td>\n",
       "      <td>113803</td>\n",
       "      <td>53.1000</td>\n",
       "      <td>C123</td>\n",
       "      <td>S</td>\n",
       "      <td>1</td>\n",
       "    </tr>\n",
       "    <tr>\n",
       "      <th>4</th>\n",
       "      <td>5</td>\n",
       "      <td>0</td>\n",
       "      <td>3</td>\n",
       "      <td>Allen, Mr. William Henry</td>\n",
       "      <td>male</td>\n",
       "      <td>35.0</td>\n",
       "      <td>0</td>\n",
       "      <td>0</td>\n",
       "      <td>373450</td>\n",
       "      <td>8.0500</td>\n",
       "      <td>NaN</td>\n",
       "      <td>S</td>\n",
       "      <td>0</td>\n",
       "    </tr>\n",
       "    <tr>\n",
       "      <th>5</th>\n",
       "      <td>6</td>\n",
       "      <td>0</td>\n",
       "      <td>3</td>\n",
       "      <td>Moran, Mr. James</td>\n",
       "      <td>male</td>\n",
       "      <td>NaN</td>\n",
       "      <td>0</td>\n",
       "      <td>0</td>\n",
       "      <td>330877</td>\n",
       "      <td>8.4583</td>\n",
       "      <td>NaN</td>\n",
       "      <td>Q</td>\n",
       "      <td>0</td>\n",
       "    </tr>\n",
       "    <tr>\n",
       "      <th>6</th>\n",
       "      <td>7</td>\n",
       "      <td>0</td>\n",
       "      <td>1</td>\n",
       "      <td>McCarthy, Mr. Timothy J</td>\n",
       "      <td>male</td>\n",
       "      <td>54.0</td>\n",
       "      <td>0</td>\n",
       "      <td>0</td>\n",
       "      <td>17463</td>\n",
       "      <td>51.8625</td>\n",
       "      <td>E46</td>\n",
       "      <td>S</td>\n",
       "      <td>0</td>\n",
       "    </tr>\n",
       "    <tr>\n",
       "      <th>7</th>\n",
       "      <td>8</td>\n",
       "      <td>0</td>\n",
       "      <td>3</td>\n",
       "      <td>Palsson, Master. Gosta Leonard</td>\n",
       "      <td>male</td>\n",
       "      <td>2.0</td>\n",
       "      <td>3</td>\n",
       "      <td>1</td>\n",
       "      <td>349909</td>\n",
       "      <td>21.0750</td>\n",
       "      <td>NaN</td>\n",
       "      <td>S</td>\n",
       "      <td>0</td>\n",
       "    </tr>\n",
       "  </tbody>\n",
       "</table>\n",
       "</div>"
      ],
      "text/plain": [
       "   PassengerId  Survived  Pclass  \\\n",
       "0            1         0       3   \n",
       "1            2         1       1   \n",
       "2            3         1       3   \n",
       "3            4         1       1   \n",
       "4            5         0       3   \n",
       "5            6         0       3   \n",
       "6            7         0       1   \n",
       "7            8         0       3   \n",
       "\n",
       "                                                Name     Sex   Age  SibSp  \\\n",
       "0                            Braund, Mr. Owen Harris    male  22.0      1   \n",
       "1  Cumings, Mrs. John Bradley (Florence Briggs Th...  female  38.0      1   \n",
       "2                             Heikkinen, Miss. Laina  female  26.0      0   \n",
       "3       Futrelle, Mrs. Jacques Heath (Lily May Peel)  female  35.0      1   \n",
       "4                           Allen, Mr. William Henry    male  35.0      0   \n",
       "5                                   Moran, Mr. James    male   NaN      0   \n",
       "6                            McCarthy, Mr. Timothy J    male  54.0      0   \n",
       "7                     Palsson, Master. Gosta Leonard    male   2.0      3   \n",
       "\n",
       "   Parch            Ticket     Fare Cabin Embarked  SibSp_is1  \n",
       "0      0         A/5 21171   7.2500   NaN        S          1  \n",
       "1      0          PC 17599  71.2833   C85        C          1  \n",
       "2      0  STON/O2. 3101282   7.9250   NaN        S          0  \n",
       "3      0            113803  53.1000  C123        S          1  \n",
       "4      0            373450   8.0500   NaN        S          0  \n",
       "5      0            330877   8.4583   NaN        Q          0  \n",
       "6      0             17463  51.8625   E46        S          0  \n",
       "7      1            349909  21.0750   NaN        S          0  "
      ]
     },
     "execution_count": 54,
     "metadata": {},
     "output_type": "execute_result"
    }
   ],
   "source": [
    "cont_SibSp['count_nonzero']['PassengerId'][0]\n",
    "\n",
    "df['SibSp_is1'] = map(lambda x: 1 if x==1 else 0, df['SibSp'])\n",
    "df.head(8)"
   ]
  },
  {
   "cell_type": "code",
   "execution_count": 55,
   "metadata": {},
   "outputs": [
    {
     "data": {
      "text/html": [
       "<div>\n",
       "<style scoped>\n",
       "    .dataframe tbody tr th:only-of-type {\n",
       "        vertical-align: middle;\n",
       "    }\n",
       "\n",
       "    .dataframe tbody tr th {\n",
       "        vertical-align: top;\n",
       "    }\n",
       "\n",
       "    .dataframe thead tr th {\n",
       "        text-align: left;\n",
       "    }\n",
       "\n",
       "    .dataframe thead tr:last-of-type th {\n",
       "        text-align: right;\n",
       "    }\n",
       "</style>\n",
       "<table border=\"1\" class=\"dataframe\">\n",
       "  <thead>\n",
       "    <tr>\n",
       "      <th></th>\n",
       "      <th colspan=\"2\" halign=\"left\">count_nonzero</th>\n",
       "    </tr>\n",
       "    <tr>\n",
       "      <th></th>\n",
       "      <th colspan=\"2\" halign=\"left\">PassengerId</th>\n",
       "    </tr>\n",
       "    <tr>\n",
       "      <th>Survived</th>\n",
       "      <th>0</th>\n",
       "      <th>1</th>\n",
       "    </tr>\n",
       "    <tr>\n",
       "      <th>SibSp_is1</th>\n",
       "      <th></th>\n",
       "      <th></th>\n",
       "    </tr>\n",
       "  </thead>\n",
       "  <tbody>\n",
       "    <tr>\n",
       "      <th>0</th>\n",
       "      <td>452</td>\n",
       "      <td>230</td>\n",
       "    </tr>\n",
       "    <tr>\n",
       "      <th>1</th>\n",
       "      <td>97</td>\n",
       "      <td>112</td>\n",
       "    </tr>\n",
       "  </tbody>\n",
       "</table>\n",
       "</div>"
      ],
      "text/plain": [
       "          count_nonzero     \n",
       "            PassengerId     \n",
       "Survived              0    1\n",
       "SibSp_is1                   \n",
       "0                   452  230\n",
       "1                    97  112"
      ]
     },
     "execution_count": 55,
     "metadata": {},
     "output_type": "execute_result"
    }
   ],
   "source": [
    "cont_SibSp_is1= pd.pivot_table(df,index=['SibSp_is1'],columns=['Survived'], values = ['PassengerId'],\\\n",
    "               aggfunc=[np.count_nonzero])\n",
    "cont_SibSp_is1"
   ]
  },
  {
   "cell_type": "code",
   "execution_count": 56,
   "metadata": {
    "scrolled": true
   },
   "outputs": [
    {
     "data": {
      "text/plain": [
       "(25.856859782670782,\n",
       " 3.6769563345877817e-07,\n",
       " array([[ 420.22222222,  261.77777778],\n",
       "        [ 128.77777778,   80.22222222]]))"
      ]
     },
     "execution_count": 56,
     "metadata": {},
     "output_type": "execute_result"
    }
   ],
   "source": [
    "core_SibSp_is1 = cont_SibSp_is1.values\n",
    "chi_2, p, d_f, hypo = st.chi2_contingency(core_SibSp_is1)\n",
    "chi_2, p, hypo"
   ]
  },
  {
   "cell_type": "markdown",
   "metadata": {},
   "source": [
    "有1个兄弟姐妹的，生还率显著更高；有0个或高于1个的，生还率显著更低"
   ]
  },
  {
   "cell_type": "markdown",
   "metadata": {},
   "source": [
    "#### 查看父母或孩子数量与生还情况的关系"
   ]
  },
  {
   "cell_type": "code",
   "execution_count": 57,
   "metadata": {},
   "outputs": [
    {
     "data": {
      "text/html": [
       "<div>\n",
       "<style scoped>\n",
       "    .dataframe tbody tr th:only-of-type {\n",
       "        vertical-align: middle;\n",
       "    }\n",
       "\n",
       "    .dataframe tbody tr th {\n",
       "        vertical-align: top;\n",
       "    }\n",
       "\n",
       "    .dataframe thead tr th {\n",
       "        text-align: left;\n",
       "    }\n",
       "\n",
       "    .dataframe thead tr:last-of-type th {\n",
       "        text-align: right;\n",
       "    }\n",
       "</style>\n",
       "<table border=\"1\" class=\"dataframe\">\n",
       "  <thead>\n",
       "    <tr>\n",
       "      <th></th>\n",
       "      <th colspan=\"2\" halign=\"left\">count_nonzero</th>\n",
       "    </tr>\n",
       "    <tr>\n",
       "      <th></th>\n",
       "      <th colspan=\"2\" halign=\"left\">PassengerId</th>\n",
       "    </tr>\n",
       "    <tr>\n",
       "      <th>Survived</th>\n",
       "      <th>0</th>\n",
       "      <th>1</th>\n",
       "    </tr>\n",
       "    <tr>\n",
       "      <th>Parch</th>\n",
       "      <th></th>\n",
       "      <th></th>\n",
       "    </tr>\n",
       "  </thead>\n",
       "  <tbody>\n",
       "    <tr>\n",
       "      <th>0</th>\n",
       "      <td>445.0</td>\n",
       "      <td>233.0</td>\n",
       "    </tr>\n",
       "    <tr>\n",
       "      <th>1</th>\n",
       "      <td>53.0</td>\n",
       "      <td>65.0</td>\n",
       "    </tr>\n",
       "    <tr>\n",
       "      <th>2</th>\n",
       "      <td>40.0</td>\n",
       "      <td>40.0</td>\n",
       "    </tr>\n",
       "    <tr>\n",
       "      <th>3</th>\n",
       "      <td>2.0</td>\n",
       "      <td>3.0</td>\n",
       "    </tr>\n",
       "    <tr>\n",
       "      <th>4</th>\n",
       "      <td>4.0</td>\n",
       "      <td>0.0</td>\n",
       "    </tr>\n",
       "    <tr>\n",
       "      <th>5</th>\n",
       "      <td>4.0</td>\n",
       "      <td>1.0</td>\n",
       "    </tr>\n",
       "    <tr>\n",
       "      <th>6</th>\n",
       "      <td>1.0</td>\n",
       "      <td>0.0</td>\n",
       "    </tr>\n",
       "  </tbody>\n",
       "</table>\n",
       "</div>"
      ],
      "text/plain": [
       "         count_nonzero       \n",
       "           PassengerId       \n",
       "Survived             0      1\n",
       "Parch                        \n",
       "0                445.0  233.0\n",
       "1                 53.0   65.0\n",
       "2                 40.0   40.0\n",
       "3                  2.0    3.0\n",
       "4                  4.0    0.0\n",
       "5                  4.0    1.0\n",
       "6                  1.0    0.0"
      ]
     },
     "execution_count": 57,
     "metadata": {},
     "output_type": "execute_result"
    }
   ],
   "source": [
    "pd.pivot_table(df,index=['Parch'],columns=['Survived'], values = ['PassengerId'],\\\n",
    "               aggfunc=[np.count_nonzero]).fillna(0)"
   ]
  },
  {
   "cell_type": "markdown",
   "metadata": {},
   "source": [
    "- 没有父母或孩子的，生还率低；其他生还和遇难的人数相差不大"
   ]
  },
  {
   "cell_type": "markdown",
   "metadata": {},
   "source": [
    "#### Embarked与是否生还的关系"
   ]
  },
  {
   "cell_type": "code",
   "execution_count": 58,
   "metadata": {},
   "outputs": [
    {
     "data": {
      "text/html": [
       "<div>\n",
       "<style scoped>\n",
       "    .dataframe tbody tr th:only-of-type {\n",
       "        vertical-align: middle;\n",
       "    }\n",
       "\n",
       "    .dataframe tbody tr th {\n",
       "        vertical-align: top;\n",
       "    }\n",
       "\n",
       "    .dataframe thead tr th {\n",
       "        text-align: left;\n",
       "    }\n",
       "\n",
       "    .dataframe thead tr:last-of-type th {\n",
       "        text-align: right;\n",
       "    }\n",
       "</style>\n",
       "<table border=\"1\" class=\"dataframe\">\n",
       "  <thead>\n",
       "    <tr>\n",
       "      <th></th>\n",
       "      <th colspan=\"2\" halign=\"left\">count_nonzero</th>\n",
       "    </tr>\n",
       "    <tr>\n",
       "      <th></th>\n",
       "      <th colspan=\"2\" halign=\"left\">PassengerId</th>\n",
       "    </tr>\n",
       "    <tr>\n",
       "      <th>Survived</th>\n",
       "      <th>0</th>\n",
       "      <th>1</th>\n",
       "    </tr>\n",
       "    <tr>\n",
       "      <th>Embarked</th>\n",
       "      <th></th>\n",
       "      <th></th>\n",
       "    </tr>\n",
       "  </thead>\n",
       "  <tbody>\n",
       "    <tr>\n",
       "      <th>C</th>\n",
       "      <td>75</td>\n",
       "      <td>93</td>\n",
       "    </tr>\n",
       "    <tr>\n",
       "      <th>Q</th>\n",
       "      <td>47</td>\n",
       "      <td>30</td>\n",
       "    </tr>\n",
       "    <tr>\n",
       "      <th>S</th>\n",
       "      <td>427</td>\n",
       "      <td>217</td>\n",
       "    </tr>\n",
       "  </tbody>\n",
       "</table>\n",
       "</div>"
      ],
      "text/plain": [
       "         count_nonzero     \n",
       "           PassengerId     \n",
       "Survived             0    1\n",
       "Embarked                   \n",
       "C                   75   93\n",
       "Q                   47   30\n",
       "S                  427  217"
      ]
     },
     "execution_count": 58,
     "metadata": {},
     "output_type": "execute_result"
    }
   ],
   "source": [
    "\n",
    "cont_Embarked = pd.pivot_table(df,index=['Embarked'],columns=['Survived'], values = ['PassengerId'],\\\n",
    "               aggfunc=[np.count_nonzero])\n",
    "cont_Embarked"
   ]
  },
  {
   "cell_type": "code",
   "execution_count": 59,
   "metadata": {},
   "outputs": [
    {
     "data": {
      "text/plain": [
       "(26.489149839237619,\n",
       " 1.769922284120912e-06,\n",
       " array([[ 103.7480315,   64.2519685],\n",
       "        [  47.5511811,   29.4488189],\n",
       "        [ 397.7007874,  246.2992126]]))"
      ]
     },
     "execution_count": 59,
     "metadata": {},
     "output_type": "execute_result"
    }
   ],
   "source": [
    "core_Embarked = cont_Embarked.values\n",
    "chi_2, p, d_f, hypo = st.chi2_contingency(core_Embarked)\n",
    "chi_2, p, hypo"
   ]
  },
  {
   "cell_type": "markdown",
   "metadata": {},
   "source": [
    "Embarked为C的，生还率高于预期；为Q的，生还率不变；为S的，生还率低于预期"
   ]
  },
  {
   "cell_type": "markdown",
   "metadata": {},
   "source": [
    "### 批量处理训练和测试数据，便于多变量探索和后续输入算法"
   ]
  },
  {
   "cell_type": "code",
   "execution_count": 115,
   "metadata": {},
   "outputs": [],
   "source": [
    "def ages(df):\n",
    "    df.Age = df.Age.fillna(df.Age.median())\n",
    "    bins = (0, 5, 12, 16, 31, 48, 64, 81)\n",
    "    group_names = ['Baby', 'Child', 'Teenager', 'pre_Adult', 'Adult', 'Middle_aged', 'Senior']\n",
    "    categories = pd.cut(df.Age, bins, labels=group_names)\n",
    "    df.Age = categories\n",
    "    return df\n",
    "\n",
    "def fares(df):\n",
    "    df.Fare =df.Fare.fillna(df.Fare.median())\n",
    "    bins = (-0.9, 8, 15, 31, 600)\n",
    "    group_names = ['1_quartile', '2_quartile', '3_quartile', '4_quartile']\n",
    "    categories = pd.cut(df['Fare'], bins, labels=group_names)\n",
    "    df['Fare'] = categories\n",
    "    return df\n",
    "\n",
    "\n",
    "def name(df):\n",
    "    df['Lname'] = df.Name.apply(lambda x: x.split(' ')[0])\n",
    "    df['NamePrefix'] = df.Name.apply(lambda x: x.split(' ')[1])\n",
    "    return df    \n",
    "\n",
    "def Embarked(df):\n",
    "    df = df[df['Embarked'].notnull()]\n",
    "    #df['Female'] = map(lambda x: 1 if x=='female' else 0, df['Sex'])\n",
    "    #df['Embarked_C'] = map(lambda x: 1 if x=='C' else 0, df['Embarked'])\n",
    "    #df['Embarked_Q'] = map(lambda x: 1 if x=='Q' else 0, df['Embarked'])\n",
    "    #df['Embarked_S'] = map(lambda x: 1 if x=='S' else 0, df['Embarked'])\n",
    "    return df\n",
    "\n",
    "\n",
    "#def SibSp_and_Parch(df):   \n",
    "    #df['SibSp_is1'] = map(lambda x: 1 if x==1 else 0, df['SibSp'])   \n",
    "    #df['Parch_is1'] = map(lambda x: 0 if x==0 else 1, df['Parch'])\n",
    "    #return df\n",
    "\n",
    "def drop_features(df):\n",
    "    df = df.drop(['Ticket','Name','Cabin', 'Embarked'], axis=1)\n",
    "    return df\n",
    "\n",
    "\n",
    "def handle_df(df):\n",
    "    df = ages(df)\n",
    "    df = fares(df)\n",
    "    #df = SibSp_and_Parch(df)\n",
    "    #df = Embarked(df)   \n",
    "    df = name(df)\n",
    "    df = drop_features(df)\n",
    "    return df\n",
    "\n"
   ]
  },
  {
   "cell_type": "code",
   "execution_count": 165,
   "metadata": {},
   "outputs": [
    {
     "data": {
      "text/html": [
       "<div>\n",
       "<style scoped>\n",
       "    .dataframe tbody tr th:only-of-type {\n",
       "        vertical-align: middle;\n",
       "    }\n",
       "\n",
       "    .dataframe tbody tr th {\n",
       "        vertical-align: top;\n",
       "    }\n",
       "\n",
       "    .dataframe thead th {\n",
       "        text-align: right;\n",
       "    }\n",
       "</style>\n",
       "<table border=\"1\" class=\"dataframe\">\n",
       "  <thead>\n",
       "    <tr style=\"text-align: right;\">\n",
       "      <th></th>\n",
       "      <th>PassengerId</th>\n",
       "      <th>Survived</th>\n",
       "      <th>Pclass</th>\n",
       "      <th>Name</th>\n",
       "      <th>Sex</th>\n",
       "      <th>Age</th>\n",
       "      <th>SibSp</th>\n",
       "      <th>Parch</th>\n",
       "      <th>Ticket</th>\n",
       "      <th>Fare</th>\n",
       "      <th>Cabin</th>\n",
       "      <th>Embarked</th>\n",
       "    </tr>\n",
       "  </thead>\n",
       "  <tbody>\n",
       "    <tr>\n",
       "      <th>825</th>\n",
       "      <td>826</td>\n",
       "      <td>0</td>\n",
       "      <td>3</td>\n",
       "      <td>Flynn, Mr. John</td>\n",
       "      <td>male</td>\n",
       "      <td>NaN</td>\n",
       "      <td>0</td>\n",
       "      <td>0</td>\n",
       "      <td>368323</td>\n",
       "      <td>6.9500</td>\n",
       "      <td>NaN</td>\n",
       "      <td>Q</td>\n",
       "    </tr>\n",
       "    <tr>\n",
       "      <th>175</th>\n",
       "      <td>176</td>\n",
       "      <td>0</td>\n",
       "      <td>3</td>\n",
       "      <td>Klasen, Mr. Klas Albin</td>\n",
       "      <td>male</td>\n",
       "      <td>18.0</td>\n",
       "      <td>1</td>\n",
       "      <td>1</td>\n",
       "      <td>350404</td>\n",
       "      <td>7.8542</td>\n",
       "      <td>NaN</td>\n",
       "      <td>S</td>\n",
       "    </tr>\n",
       "    <tr>\n",
       "      <th>565</th>\n",
       "      <td>566</td>\n",
       "      <td>0</td>\n",
       "      <td>3</td>\n",
       "      <td>Davies, Mr. Alfred J</td>\n",
       "      <td>male</td>\n",
       "      <td>24.0</td>\n",
       "      <td>2</td>\n",
       "      <td>0</td>\n",
       "      <td>A/4 48871</td>\n",
       "      <td>24.1500</td>\n",
       "      <td>NaN</td>\n",
       "      <td>S</td>\n",
       "    </tr>\n",
       "  </tbody>\n",
       "</table>\n",
       "</div>"
      ],
      "text/plain": [
       "     PassengerId  Survived  Pclass                    Name   Sex   Age  SibSp  \\\n",
       "825          826         0       3         Flynn, Mr. John  male   NaN      0   \n",
       "175          176         0       3  Klasen, Mr. Klas Albin  male  18.0      1   \n",
       "565          566         0       3    Davies, Mr. Alfred J  male  24.0      2   \n",
       "\n",
       "     Parch     Ticket     Fare Cabin Embarked  \n",
       "825      0     368323   6.9500   NaN        Q  \n",
       "175      1     350404   7.8542   NaN        S  \n",
       "565      0  A/4 48871  24.1500   NaN        S  "
      ]
     },
     "execution_count": 165,
     "metadata": {},
     "output_type": "execute_result"
    }
   ],
   "source": [
    "data_train = pd.read_csv('train.csv')\n",
    "data_test = pd.read_csv('test.csv')\n",
    "\n",
    "data_train.sample(3)"
   ]
  },
  {
   "cell_type": "code",
   "execution_count": 166,
   "metadata": {},
   "outputs": [
    {
     "name": "stdout",
     "output_type": "stream",
     "text": [
      "<class 'pandas.core.frame.DataFrame'>\n",
      "RangeIndex: 891 entries, 0 to 890\n",
      "Data columns (total 10 columns):\n",
      "PassengerId    891 non-null int64\n",
      "Survived       891 non-null int64\n",
      "Pclass         891 non-null int64\n",
      "Sex            891 non-null object\n",
      "Age            891 non-null category\n",
      "SibSp          891 non-null int64\n",
      "Parch          891 non-null int64\n",
      "Fare           891 non-null category\n",
      "Lname          891 non-null object\n",
      "NamePrefix     891 non-null object\n",
      "dtypes: category(2), int64(5), object(3)\n",
      "memory usage: 58.1+ KB\n"
     ]
    }
   ],
   "source": [
    "data_train = handle_df(data_train)\n",
    "data_test = handle_df(data_test)\n",
    "data_train.info()"
   ]
  },
  {
   "cell_type": "code",
   "execution_count": 167,
   "metadata": {},
   "outputs": [
    {
     "data": {
      "text/html": [
       "<div>\n",
       "<style scoped>\n",
       "    .dataframe tbody tr th:only-of-type {\n",
       "        vertical-align: middle;\n",
       "    }\n",
       "\n",
       "    .dataframe tbody tr th {\n",
       "        vertical-align: top;\n",
       "    }\n",
       "\n",
       "    .dataframe thead th {\n",
       "        text-align: right;\n",
       "    }\n",
       "</style>\n",
       "<table border=\"1\" class=\"dataframe\">\n",
       "  <thead>\n",
       "    <tr style=\"text-align: right;\">\n",
       "      <th></th>\n",
       "      <th>PassengerId</th>\n",
       "      <th>Survived</th>\n",
       "      <th>Pclass</th>\n",
       "      <th>Sex</th>\n",
       "      <th>Age</th>\n",
       "      <th>SibSp</th>\n",
       "      <th>Parch</th>\n",
       "      <th>Fare</th>\n",
       "      <th>Lname</th>\n",
       "      <th>NamePrefix</th>\n",
       "    </tr>\n",
       "  </thead>\n",
       "  <tbody>\n",
       "    <tr>\n",
       "      <th>59</th>\n",
       "      <td>60</td>\n",
       "      <td>0</td>\n",
       "      <td>3</td>\n",
       "      <td>male</td>\n",
       "      <td>Child</td>\n",
       "      <td>5</td>\n",
       "      <td>2</td>\n",
       "      <td>4_quartile</td>\n",
       "      <td>Goodwin,</td>\n",
       "      <td>Master.</td>\n",
       "    </tr>\n",
       "    <tr>\n",
       "      <th>223</th>\n",
       "      <td>224</td>\n",
       "      <td>0</td>\n",
       "      <td>3</td>\n",
       "      <td>male</td>\n",
       "      <td>pre_Adult</td>\n",
       "      <td>0</td>\n",
       "      <td>0</td>\n",
       "      <td>1_quartile</td>\n",
       "      <td>Nenkoff,</td>\n",
       "      <td>Mr.</td>\n",
       "    </tr>\n",
       "    <tr>\n",
       "      <th>395</th>\n",
       "      <td>396</td>\n",
       "      <td>0</td>\n",
       "      <td>3</td>\n",
       "      <td>male</td>\n",
       "      <td>pre_Adult</td>\n",
       "      <td>0</td>\n",
       "      <td>0</td>\n",
       "      <td>1_quartile</td>\n",
       "      <td>Johansson,</td>\n",
       "      <td>Mr.</td>\n",
       "    </tr>\n",
       "  </tbody>\n",
       "</table>\n",
       "</div>"
      ],
      "text/plain": [
       "     PassengerId  Survived  Pclass   Sex        Age  SibSp  Parch        Fare  \\\n",
       "59            60         0       3  male      Child      5      2  4_quartile   \n",
       "223          224         0       3  male  pre_Adult      0      0  1_quartile   \n",
       "395          396         0       3  male  pre_Adult      0      0  1_quartile   \n",
       "\n",
       "          Lname NamePrefix  \n",
       "59     Goodwin,    Master.  \n",
       "223    Nenkoff,        Mr.  \n",
       "395  Johansson,        Mr.  "
      ]
     },
     "execution_count": 167,
     "metadata": {},
     "output_type": "execute_result"
    }
   ],
   "source": [
    "data_train.sample(3)"
   ]
  },
  {
   "cell_type": "markdown",
   "metadata": {},
   "source": [
    "#### 现在已将连续数据分段，可以查看多因素的交互影响\n",
    "由于性别为主要影响因素，这里主要查看在性别相同时，其他变量与生还状态的关系"
   ]
  },
  {
   "cell_type": "code",
   "execution_count": 208,
   "metadata": {
    "scrolled": false
   },
   "outputs": [
    {
     "data": {
      "text/plain": [
       "Text(0,0.5,u'mean(Survived)')"
      ]
     },
     "execution_count": 208,
     "metadata": {},
     "output_type": "execute_result"
    },
    {
     "data": {
      "image/png": "[encoded data removed]",
      "text/plain": [
       "<matplotlib.figure.Figure at 0x1a22a49c50>"
      ]
     },
     "metadata": {},
     "output_type": "display_data"
    }
   ],
   "source": [
    "sns.pointplot(x=\"Age\", y=\"Survived\", hue=\"Sex\", data=data_train)\n",
    "plt.ylabel('mean(Survived)')"
   ]
  },
  {
   "cell_type": "markdown",
   "metadata": {},
   "source": [
    "可以看到：\n",
    "- 在年龄较小阶段（婴儿和儿童时期），生还率和性别的关系不太明显，不管是男还是女，婴儿的生还率高于儿童；\n",
    "- 在青年及以后的年龄阶段，女性的生还率明显高于男性；\n",
    "- 在青年及以后的年龄阶段，女性随着年龄的增长，生还率先下降后上升；男性随着年龄的增长生还率先上升后下降。"
   ]
  },
  {
   "cell_type": "code",
   "execution_count": 209,
   "metadata": {},
   "outputs": [
    {
     "data": {
      "text/plain": [
       "Text(0,0.5,u'mean(Survived)')"
      ]
     },
     "execution_count": 209,
     "metadata": {},
     "output_type": "execute_result"
    },
    {
     "data": {
      "image/png": "[encoded data removed]",
      "text/plain": [
       "<matplotlib.figure.Figure at 0x1a22a2af50>"
      ]
     },
     "metadata": {},
     "output_type": "display_data"
    }
   ],
   "source": [
    "sns.pointplot(x=\"Pclass\", y=\"Survived\", hue=\"Sex\", data=data_train)\n",
    "plt.ylabel('mean(Survived)')"
   ]
  },
  {
   "cell_type": "markdown",
   "metadata": {},
   "source": [
    "可以看到：\n",
    "- 无论男性还是女性，社会阶级地位越高，生还率越高\n",
    "- 女性生还率整体都比男性高，甚至下层阶级的女性还略高于上层阶级的男性\n",
    "- 女性上层阶级和中层阶级生还率差异不大，下层阶级女性有一个比较明显的下降； 而男性是在中层就明显下降，中层和下层阶级差异不大"
   ]
  },
  {
   "cell_type": "code",
   "execution_count": 219,
   "metadata": {},
   "outputs": [
    {
     "data": {
      "text/plain": [
       "Text(0.5,1,u'Sex = male')"
      ]
     },
     "execution_count": 219,
     "metadata": {},
     "output_type": "execute_result"
    },
    {
     "data": {
      "image/png": "[encoded data removed]",
      "text/plain": [
       "<matplotlib.figure.Figure at 0x1a24b84890>"
      ]
     },
     "metadata": {},
     "output_type": "display_data"
    }
   ],
   "source": [
    "fig = plt.figure(figsize=(14,4))\n",
    "\n",
    "ax1 = plt.subplot(121)\n",
    "sns.pointplot(x=\"Age\", y=\"Survived\", hue=\"Pclass\", data=data_train[data_train['Sex']=='female'])\n",
    "plt.ylabel('mean(Survived)')\n",
    "plt.title('Sex = female')\n",
    "\n",
    "ax2 = plt.subplot(122)\n",
    "sns.pointplot(x=\"Age\", y=\"Survived\", hue=\"Pclass\", data=data_train[data_train['Sex']=='male'])\n",
    "plt.ylabel('mean(Survived)')\n",
    "plt.title('Sex = male')"
   ]
  },
  {
   "cell_type": "markdown",
   "metadata": {},
   "source": [
    "拨开性别和年龄，来看社会阶级与生还状态的关系，可以看到：\n",
    "- 女性中，上层阶级和中层阶级的女性，几乎全部获救；下层阶级的女性生还率稍低\n",
    "- 女性中，上层阶级的婴儿、下层阶级的孩子、下层阶级的中年人，都比较异常，推测这里人数比较少，稍后查看详细值\n",
    "- 男性中，上层阶级都至少是高于或等于16岁的（Teenager定义是16岁以下）\n",
    "- 男性中，在16岁以上，上层阶级男性生还率高于其他两个阶级的男性；16岁以下，中层阶级的孩子和婴儿，生还率高于下层阶级"
   ]
  },
  {
   "cell_type": "code",
   "execution_count": 222,
   "metadata": {},
   "outputs": [
    {
     "data": {
      "text/html": [
       "<div>\n",
       "<style scoped>\n",
       "    .dataframe tbody tr th:only-of-type {\n",
       "        vertical-align: middle;\n",
       "    }\n",
       "\n",
       "    .dataframe tbody tr th {\n",
       "        vertical-align: top;\n",
       "    }\n",
       "\n",
       "    .dataframe thead th {\n",
       "        text-align: right;\n",
       "    }\n",
       "</style>\n",
       "<table border=\"1\" class=\"dataframe\">\n",
       "  <thead>\n",
       "    <tr style=\"text-align: right;\">\n",
       "      <th></th>\n",
       "      <th>PassengerId</th>\n",
       "      <th>Survived</th>\n",
       "      <th>Pclass</th>\n",
       "      <th>Sex</th>\n",
       "      <th>Age</th>\n",
       "      <th>SibSp</th>\n",
       "      <th>Parch</th>\n",
       "      <th>Fare</th>\n",
       "      <th>Lname</th>\n",
       "      <th>NamePrefix</th>\n",
       "    </tr>\n",
       "  </thead>\n",
       "  <tbody>\n",
       "    <tr>\n",
       "      <th>297</th>\n",
       "      <td>298</td>\n",
       "      <td>0</td>\n",
       "      <td>1</td>\n",
       "      <td>female</td>\n",
       "      <td>Baby</td>\n",
       "      <td>1</td>\n",
       "      <td>2</td>\n",
       "      <td>4_quartile</td>\n",
       "      <td>Allison,</td>\n",
       "      <td>Miss.</td>\n",
       "    </tr>\n",
       "  </tbody>\n",
       "</table>\n",
       "</div>"
      ],
      "text/plain": [
       "     PassengerId  Survived  Pclass     Sex   Age  SibSp  Parch        Fare  \\\n",
       "297          298         0       1  female  Baby      1      2  4_quartile   \n",
       "\n",
       "        Lname NamePrefix  \n",
       "297  Allison,      Miss.  "
      ]
     },
     "execution_count": 222,
     "metadata": {},
     "output_type": "execute_result"
    }
   ],
   "source": [
    "# 女性，上层阶级baby和下层阶级child查看\n",
    "data_train.loc[(data_train['Sex']=='female') & (data_train['Pclass'] == 1) & (data_train['Age'] == 'Baby')]"
   ]
  },
  {
   "cell_type": "markdown",
   "metadata": {},
   "source": [
    "验证了我们的猜测，上层阶级唯一一个女婴，不幸遇难"
   ]
  },
  {
   "cell_type": "code",
   "execution_count": 223,
   "metadata": {},
   "outputs": [
    {
     "data": {
      "text/html": [
       "<div>\n",
       "<style scoped>\n",
       "    .dataframe tbody tr th:only-of-type {\n",
       "        vertical-align: middle;\n",
       "    }\n",
       "\n",
       "    .dataframe tbody tr th {\n",
       "        vertical-align: top;\n",
       "    }\n",
       "\n",
       "    .dataframe thead th {\n",
       "        text-align: right;\n",
       "    }\n",
       "</style>\n",
       "<table border=\"1\" class=\"dataframe\">\n",
       "  <thead>\n",
       "    <tr style=\"text-align: right;\">\n",
       "      <th></th>\n",
       "      <th>PassengerId</th>\n",
       "      <th>Survived</th>\n",
       "      <th>Pclass</th>\n",
       "      <th>Sex</th>\n",
       "      <th>Age</th>\n",
       "      <th>SibSp</th>\n",
       "      <th>Parch</th>\n",
       "      <th>Fare</th>\n",
       "      <th>Lname</th>\n",
       "      <th>NamePrefix</th>\n",
       "    </tr>\n",
       "  </thead>\n",
       "  <tbody>\n",
       "    <tr>\n",
       "      <th>24</th>\n",
       "      <td>25</td>\n",
       "      <td>0</td>\n",
       "      <td>3</td>\n",
       "      <td>female</td>\n",
       "      <td>Child</td>\n",
       "      <td>3</td>\n",
       "      <td>1</td>\n",
       "      <td>3_quartile</td>\n",
       "      <td>Palsson,</td>\n",
       "      <td>Miss.</td>\n",
       "    </tr>\n",
       "    <tr>\n",
       "      <th>147</th>\n",
       "      <td>148</td>\n",
       "      <td>0</td>\n",
       "      <td>3</td>\n",
       "      <td>female</td>\n",
       "      <td>Child</td>\n",
       "      <td>2</td>\n",
       "      <td>2</td>\n",
       "      <td>4_quartile</td>\n",
       "      <td>Ford,</td>\n",
       "      <td>Miss.</td>\n",
       "    </tr>\n",
       "    <tr>\n",
       "      <th>419</th>\n",
       "      <td>420</td>\n",
       "      <td>0</td>\n",
       "      <td>3</td>\n",
       "      <td>female</td>\n",
       "      <td>Child</td>\n",
       "      <td>0</td>\n",
       "      <td>2</td>\n",
       "      <td>3_quartile</td>\n",
       "      <td>Van</td>\n",
       "      <td>Impe,</td>\n",
       "    </tr>\n",
       "    <tr>\n",
       "      <th>541</th>\n",
       "      <td>542</td>\n",
       "      <td>0</td>\n",
       "      <td>3</td>\n",
       "      <td>female</td>\n",
       "      <td>Child</td>\n",
       "      <td>4</td>\n",
       "      <td>2</td>\n",
       "      <td>4_quartile</td>\n",
       "      <td>Andersson,</td>\n",
       "      <td>Miss.</td>\n",
       "    </tr>\n",
       "    <tr>\n",
       "      <th>542</th>\n",
       "      <td>543</td>\n",
       "      <td>0</td>\n",
       "      <td>3</td>\n",
       "      <td>female</td>\n",
       "      <td>Child</td>\n",
       "      <td>4</td>\n",
       "      <td>2</td>\n",
       "      <td>4_quartile</td>\n",
       "      <td>Andersson,</td>\n",
       "      <td>Miss.</td>\n",
       "    </tr>\n",
       "    <tr>\n",
       "      <th>634</th>\n",
       "      <td>635</td>\n",
       "      <td>0</td>\n",
       "      <td>3</td>\n",
       "      <td>female</td>\n",
       "      <td>Child</td>\n",
       "      <td>3</td>\n",
       "      <td>2</td>\n",
       "      <td>3_quartile</td>\n",
       "      <td>Skoog,</td>\n",
       "      <td>Miss.</td>\n",
       "    </tr>\n",
       "    <tr>\n",
       "      <th>813</th>\n",
       "      <td>814</td>\n",
       "      <td>0</td>\n",
       "      <td>3</td>\n",
       "      <td>female</td>\n",
       "      <td>Child</td>\n",
       "      <td>4</td>\n",
       "      <td>2</td>\n",
       "      <td>4_quartile</td>\n",
       "      <td>Andersson,</td>\n",
       "      <td>Miss.</td>\n",
       "    </tr>\n",
       "    <tr>\n",
       "      <th>852</th>\n",
       "      <td>853</td>\n",
       "      <td>0</td>\n",
       "      <td>3</td>\n",
       "      <td>female</td>\n",
       "      <td>Child</td>\n",
       "      <td>1</td>\n",
       "      <td>1</td>\n",
       "      <td>3_quartile</td>\n",
       "      <td>Boulos,</td>\n",
       "      <td>Miss.</td>\n",
       "    </tr>\n",
       "  </tbody>\n",
       "</table>\n",
       "</div>"
      ],
      "text/plain": [
       "     PassengerId  Survived  Pclass     Sex    Age  SibSp  Parch        Fare  \\\n",
       "24            25         0       3  female  Child      3      1  3_quartile   \n",
       "147          148         0       3  female  Child      2      2  4_quartile   \n",
       "419          420         0       3  female  Child      0      2  3_quartile   \n",
       "541          542         0       3  female  Child      4      2  4_quartile   \n",
       "542          543         0       3  female  Child      4      2  4_quartile   \n",
       "634          635         0       3  female  Child      3      2  3_quartile   \n",
       "813          814         0       3  female  Child      4      2  4_quartile   \n",
       "852          853         0       3  female  Child      1      1  3_quartile   \n",
       "\n",
       "          Lname NamePrefix  \n",
       "24     Palsson,      Miss.  \n",
       "147       Ford,      Miss.  \n",
       "419         Van      Impe,  \n",
       "541  Andersson,      Miss.  \n",
       "542  Andersson,      Miss.  \n",
       "634      Skoog,      Miss.  \n",
       "813  Andersson,      Miss.  \n",
       "852     Boulos,      Miss.  "
      ]
     },
     "execution_count": 223,
     "metadata": {},
     "output_type": "execute_result"
    }
   ],
   "source": [
    "data_train.loc[(data_train['Sex']=='female') & (data_train['Pclass'] == 3) & (data_train['Age'] == 'Child')]"
   ]
  },
  {
   "cell_type": "markdown",
   "metadata": {},
   "source": [
    "- 下层阶级的8个女孩都没能生还\n",
    "- 仔细一看，有3个女孩似乎来自同一个家庭，这三个孩子的Lname，SibSp，Parch，Fare，Pclass都是完全一样的；如果他们有4个兄弟姐妹在船上，那么可以推测这个家庭可能只有一个孩子活下来\n",
    "- 所以下层阶级女孩生还率为0，也可以算少数异常情况"
   ]
  },
  {
   "cell_type": "code",
   "execution_count": 229,
   "metadata": {
    "scrolled": false
   },
   "outputs": [
    {
     "data": {
      "text/html": [
       "<div>\n",
       "<style scoped>\n",
       "    .dataframe tbody tr th:only-of-type {\n",
       "        vertical-align: middle;\n",
       "    }\n",
       "\n",
       "    .dataframe tbody tr th {\n",
       "        vertical-align: top;\n",
       "    }\n",
       "\n",
       "    .dataframe thead th {\n",
       "        text-align: right;\n",
       "    }\n",
       "</style>\n",
       "<table border=\"1\" class=\"dataframe\">\n",
       "  <thead>\n",
       "    <tr style=\"text-align: right;\">\n",
       "      <th></th>\n",
       "      <th>PassengerId</th>\n",
       "      <th>Survived</th>\n",
       "      <th>Pclass</th>\n",
       "      <th>Sex</th>\n",
       "      <th>Age</th>\n",
       "      <th>SibSp</th>\n",
       "      <th>Parch</th>\n",
       "      <th>Fare</th>\n",
       "      <th>Lname</th>\n",
       "      <th>NamePrefix</th>\n",
       "    </tr>\n",
       "  </thead>\n",
       "  <tbody>\n",
       "    <tr>\n",
       "      <th>483</th>\n",
       "      <td>484</td>\n",
       "      <td>1</td>\n",
       "      <td>3</td>\n",
       "      <td>female</td>\n",
       "      <td>Middle_aged</td>\n",
       "      <td>0</td>\n",
       "      <td>0</td>\n",
       "      <td>2_quartile</td>\n",
       "      <td>Turkula,</td>\n",
       "      <td>Mrs.</td>\n",
       "    </tr>\n",
       "  </tbody>\n",
       "</table>\n",
       "</div>"
      ],
      "text/plain": [
       "     PassengerId  Survived  Pclass     Sex          Age  SibSp  Parch  \\\n",
       "483          484         1       3  female  Middle_aged      0      0   \n",
       "\n",
       "           Fare     Lname NamePrefix  \n",
       "483  2_quartile  Turkula,       Mrs.  "
      ]
     },
     "execution_count": 229,
     "metadata": {},
     "output_type": "execute_result"
    }
   ],
   "source": [
    "data_train.loc[(data_train['Sex']=='female') & (data_train['Pclass'] == 3) & (data_train['Age'] == 'Middle_aged')]"
   ]
  },
  {
   "cell_type": "markdown",
   "metadata": {},
   "source": [
    "和我们猜测一样，下层阶级的中年女性只有一个，她生还了所以图上面显示是1"
   ]
  },
  {
   "cell_type": "code",
   "execution_count": 211,
   "metadata": {
    "scrolled": true
   },
   "outputs": [
    {
     "data": {
      "text/plain": [
       "Text(0,0.5,u'mean(Survived)')"
      ]
     },
     "execution_count": 211,
     "metadata": {},
     "output_type": "execute_result"
    },
    {
     "data": {
      "image/png": "[encoded data removed]",
      "text/plain": [
       "<matplotlib.figure.Figure at 0x1a23e76050>"
      ]
     },
     "metadata": {},
     "output_type": "display_data"
    }
   ],
   "source": [
    "sns.pointplot(x=\"Fare\", y=\"Survived\", hue=\"Sex\", data=data_train)\n",
    "plt.ylabel('mean(Survived)')"
   ]
  },
  {
   "cell_type": "markdown",
   "metadata": {},
   "source": [
    "- 对于男性，票价增加，生还率上升\n",
    "- 对于女性，票价增加，生还率先降低后上升"
   ]
  },
  {
   "cell_type": "code",
   "execution_count": 218,
   "metadata": {},
   "outputs": [
    {
     "data": {
      "text/plain": [
       "Text(0.5,1,u'Pclass = 3')"
      ]
     },
     "execution_count": 218,
     "metadata": {},
     "output_type": "execute_result"
    },
    {
     "data": {
      "image/png": "[encoded data removed]",
      "text/plain": [
       "<matplotlib.figure.Figure at 0x1a25690a50>"
      ]
     },
     "metadata": {},
     "output_type": "display_data"
    }
   ],
   "source": [
    "fig = plt.figure(figsize=(16,3))\n",
    "\n",
    "ax1 = plt.subplot(131)\n",
    "sns.pointplot(x=\"Fare\", y=\"Survived\", hue=\"Sex\",data=data_train[data_train['Pclass']==1],palette=[\"C1\", \"C0\"])\n",
    "ax.set_yticks(np.linspace(0,1.0,6)) \n",
    "plt.ylabel('mean(Survived)')\n",
    "plt.title('Pclass = 1')\n",
    "\n",
    "ax2 = plt.subplot(132)\n",
    "sns.pointplot(x=\"Fare\", y=\"Survived\", hue=\"Sex\", data=data_train[data_train['Pclass']==2],palette=[\"C1\", \"C0\"])\n",
    "ax2.set_yticks(np.linspace(0,1.0,6)) \n",
    "plt.ylabel('mean(Survived)')\n",
    "plt.title('Pclass = 2')\n",
    "\n",
    "ax3 = plt.subplot(133)\n",
    "sns.pointplot(x=\"Fare\", y=\"Survived\", hue=\"Sex\", data=data_train[data_train['Pclass']==3],palette=[\"C0\",\"C1\"])\n",
    "ax3.set_yticks(np.linspace(0,1.0,6)) \n",
    "plt.ylabel('mean(Survived)')\n",
    "plt.title('Pclass = 3')\n"
   ]
  },
  {
   "cell_type": "markdown",
   "metadata": {},
   "source": [
    "- 上层阶级，票价普遍高，只有少数票价低的，稍后可以查看有多少人\n",
    "- 中层阶级票价相对平衡\n",
    "- 下层阶级票价低的多，票价高的少\n",
    "- 有趣的是，整体上不同性别的票价和生还率的关系，跟分阶级后，不同性别的票价和生还率的关系是很不一样的：\n",
    "    - 中层阶级，不同性别的票价和生还率的关系和整体的趋势还比较一致，男女生还率都随票价增长\n",
    "    - 在上层阶级中，随着票价增加，男性生还率下降，女性生还率增加\n",
    "    - 在下层阶级中，随着票价增加，男性生还率是上升的，女性生还率总体却在下降。女性的生还率，从阶级和票价中反映出了较大的差异性"
   ]
  },
  {
   "cell_type": "code",
   "execution_count": 239,
   "metadata": {},
   "outputs": [
    {
     "data": {
      "text/html": [
       "<div>\n",
       "<style scoped>\n",
       "    .dataframe tbody tr th:only-of-type {\n",
       "        vertical-align: middle;\n",
       "    }\n",
       "\n",
       "    .dataframe tbody tr th {\n",
       "        vertical-align: top;\n",
       "    }\n",
       "\n",
       "    .dataframe thead th {\n",
       "        text-align: right;\n",
       "    }\n",
       "</style>\n",
       "<table border=\"1\" class=\"dataframe\">\n",
       "  <thead>\n",
       "    <tr style=\"text-align: right;\">\n",
       "      <th></th>\n",
       "      <th>PassengerId</th>\n",
       "      <th>Survived</th>\n",
       "      <th>Pclass</th>\n",
       "      <th>Sex</th>\n",
       "      <th>Age</th>\n",
       "      <th>SibSp</th>\n",
       "      <th>Parch</th>\n",
       "      <th>Fare</th>\n",
       "      <th>Lname</th>\n",
       "      <th>NamePrefix</th>\n",
       "    </tr>\n",
       "  </thead>\n",
       "  <tbody>\n",
       "    <tr>\n",
       "      <th>263</th>\n",
       "      <td>264</td>\n",
       "      <td>0</td>\n",
       "      <td>1</td>\n",
       "      <td>male</td>\n",
       "      <td>Adult</td>\n",
       "      <td>0</td>\n",
       "      <td>0</td>\n",
       "      <td>1_quartile</td>\n",
       "      <td>Harrison,</td>\n",
       "      <td>Mr.</td>\n",
       "    </tr>\n",
       "    <tr>\n",
       "      <th>633</th>\n",
       "      <td>634</td>\n",
       "      <td>0</td>\n",
       "      <td>1</td>\n",
       "      <td>male</td>\n",
       "      <td>pre_Adult</td>\n",
       "      <td>0</td>\n",
       "      <td>0</td>\n",
       "      <td>1_quartile</td>\n",
       "      <td>Parr,</td>\n",
       "      <td>Mr.</td>\n",
       "    </tr>\n",
       "    <tr>\n",
       "      <th>806</th>\n",
       "      <td>807</td>\n",
       "      <td>0</td>\n",
       "      <td>1</td>\n",
       "      <td>male</td>\n",
       "      <td>Adult</td>\n",
       "      <td>0</td>\n",
       "      <td>0</td>\n",
       "      <td>1_quartile</td>\n",
       "      <td>Andrews,</td>\n",
       "      <td>Mr.</td>\n",
       "    </tr>\n",
       "    <tr>\n",
       "      <th>815</th>\n",
       "      <td>816</td>\n",
       "      <td>0</td>\n",
       "      <td>1</td>\n",
       "      <td>male</td>\n",
       "      <td>pre_Adult</td>\n",
       "      <td>0</td>\n",
       "      <td>0</td>\n",
       "      <td>1_quartile</td>\n",
       "      <td>Fry,</td>\n",
       "      <td>Mr.</td>\n",
       "    </tr>\n",
       "    <tr>\n",
       "      <th>822</th>\n",
       "      <td>823</td>\n",
       "      <td>0</td>\n",
       "      <td>1</td>\n",
       "      <td>male</td>\n",
       "      <td>Adult</td>\n",
       "      <td>0</td>\n",
       "      <td>0</td>\n",
       "      <td>1_quartile</td>\n",
       "      <td>Reuchlin,</td>\n",
       "      <td>Jonkheer.</td>\n",
       "    </tr>\n",
       "    <tr>\n",
       "      <th>872</th>\n",
       "      <td>873</td>\n",
       "      <td>0</td>\n",
       "      <td>1</td>\n",
       "      <td>male</td>\n",
       "      <td>Adult</td>\n",
       "      <td>0</td>\n",
       "      <td>0</td>\n",
       "      <td>1_quartile</td>\n",
       "      <td>Carlsson,</td>\n",
       "      <td>Mr.</td>\n",
       "    </tr>\n",
       "  </tbody>\n",
       "</table>\n",
       "</div>"
      ],
      "text/plain": [
       "     PassengerId  Survived  Pclass   Sex        Age  SibSp  Parch        Fare  \\\n",
       "263          264         0       1  male      Adult      0      0  1_quartile   \n",
       "633          634         0       1  male  pre_Adult      0      0  1_quartile   \n",
       "806          807         0       1  male      Adult      0      0  1_quartile   \n",
       "815          816         0       1  male  pre_Adult      0      0  1_quartile   \n",
       "822          823         0       1  male      Adult      0      0  1_quartile   \n",
       "872          873         0       1  male      Adult      0      0  1_quartile   \n",
       "\n",
       "         Lname NamePrefix  \n",
       "263  Harrison,        Mr.  \n",
       "633      Parr,        Mr.  \n",
       "806   Andrews,        Mr.  \n",
       "815       Fry,        Mr.  \n",
       "822  Reuchlin,  Jonkheer.  \n",
       "872  Carlsson,        Mr.  "
      ]
     },
     "execution_count": 239,
     "metadata": {},
     "output_type": "execute_result"
    }
   ],
   "source": [
    "# 上层阶级男性，票价最低档次的人\n",
    "data_train.loc[(data_train['Sex']=='male') & (data_train['Pclass'] == 1) & (data_train['Fare'] == '1_quartile')]"
   ]
  },
  {
   "cell_type": "code",
   "execution_count": 232,
   "metadata": {
    "scrolled": true
   },
   "outputs": [
    {
     "data": {
      "text/html": [
       "<div>\n",
       "<style scoped>\n",
       "    .dataframe tbody tr th:only-of-type {\n",
       "        vertical-align: middle;\n",
       "    }\n",
       "\n",
       "    .dataframe tbody tr th {\n",
       "        vertical-align: top;\n",
       "    }\n",
       "\n",
       "    .dataframe thead th {\n",
       "        text-align: right;\n",
       "    }\n",
       "</style>\n",
       "<table border=\"1\" class=\"dataframe\">\n",
       "  <thead>\n",
       "    <tr style=\"text-align: right;\">\n",
       "      <th></th>\n",
       "      <th>PassengerId</th>\n",
       "      <th>Survived</th>\n",
       "      <th>Pclass</th>\n",
       "      <th>Sex</th>\n",
       "      <th>Age</th>\n",
       "      <th>SibSp</th>\n",
       "      <th>Parch</th>\n",
       "      <th>Fare</th>\n",
       "      <th>Lname</th>\n",
       "      <th>NamePrefix</th>\n",
       "    </tr>\n",
       "  </thead>\n",
       "  <tbody>\n",
       "    <tr>\n",
       "      <th>277</th>\n",
       "      <td>278</td>\n",
       "      <td>0</td>\n",
       "      <td>2</td>\n",
       "      <td>male</td>\n",
       "      <td>pre_Adult</td>\n",
       "      <td>0</td>\n",
       "      <td>0</td>\n",
       "      <td>1_quartile</td>\n",
       "      <td>Parkes,</td>\n",
       "      <td>Mr.</td>\n",
       "    </tr>\n",
       "    <tr>\n",
       "      <th>413</th>\n",
       "      <td>414</td>\n",
       "      <td>0</td>\n",
       "      <td>2</td>\n",
       "      <td>male</td>\n",
       "      <td>pre_Adult</td>\n",
       "      <td>0</td>\n",
       "      <td>0</td>\n",
       "      <td>1_quartile</td>\n",
       "      <td>Cunningham,</td>\n",
       "      <td>Mr.</td>\n",
       "    </tr>\n",
       "    <tr>\n",
       "      <th>466</th>\n",
       "      <td>467</td>\n",
       "      <td>0</td>\n",
       "      <td>2</td>\n",
       "      <td>male</td>\n",
       "      <td>pre_Adult</td>\n",
       "      <td>0</td>\n",
       "      <td>0</td>\n",
       "      <td>1_quartile</td>\n",
       "      <td>Campbell,</td>\n",
       "      <td>Mr.</td>\n",
       "    </tr>\n",
       "    <tr>\n",
       "      <th>481</th>\n",
       "      <td>482</td>\n",
       "      <td>0</td>\n",
       "      <td>2</td>\n",
       "      <td>male</td>\n",
       "      <td>pre_Adult</td>\n",
       "      <td>0</td>\n",
       "      <td>0</td>\n",
       "      <td>1_quartile</td>\n",
       "      <td>Frost,</td>\n",
       "      <td>Mr.</td>\n",
       "    </tr>\n",
       "    <tr>\n",
       "      <th>674</th>\n",
       "      <td>675</td>\n",
       "      <td>0</td>\n",
       "      <td>2</td>\n",
       "      <td>male</td>\n",
       "      <td>pre_Adult</td>\n",
       "      <td>0</td>\n",
       "      <td>0</td>\n",
       "      <td>1_quartile</td>\n",
       "      <td>Watson,</td>\n",
       "      <td>Mr.</td>\n",
       "    </tr>\n",
       "    <tr>\n",
       "      <th>732</th>\n",
       "      <td>733</td>\n",
       "      <td>0</td>\n",
       "      <td>2</td>\n",
       "      <td>male</td>\n",
       "      <td>pre_Adult</td>\n",
       "      <td>0</td>\n",
       "      <td>0</td>\n",
       "      <td>1_quartile</td>\n",
       "      <td>Knight,</td>\n",
       "      <td>Mr.</td>\n",
       "    </tr>\n",
       "  </tbody>\n",
       "</table>\n",
       "</div>"
      ],
      "text/plain": [
       "     PassengerId  Survived  Pclass   Sex        Age  SibSp  Parch        Fare  \\\n",
       "277          278         0       2  male  pre_Adult      0      0  1_quartile   \n",
       "413          414         0       2  male  pre_Adult      0      0  1_quartile   \n",
       "466          467         0       2  male  pre_Adult      0      0  1_quartile   \n",
       "481          482         0       2  male  pre_Adult      0      0  1_quartile   \n",
       "674          675         0       2  male  pre_Adult      0      0  1_quartile   \n",
       "732          733         0       2  male  pre_Adult      0      0  1_quartile   \n",
       "\n",
       "           Lname NamePrefix  \n",
       "277      Parkes,        Mr.  \n",
       "413  Cunningham,        Mr.  \n",
       "466    Campbell,        Mr.  \n",
       "481       Frost,        Mr.  \n",
       "674      Watson,        Mr.  \n",
       "732      Knight,        Mr.  "
      ]
     },
     "execution_count": 232,
     "metadata": {},
     "output_type": "execute_result"
    }
   ],
   "source": [
    "# 中层阶级男性，票价最低档次的人\n",
    "data_train.loc[(data_train['Sex']=='male') & (data_train['Pclass'] == 2) & (data_train['Fare'] == '1_quartile')]"
   ]
  },
  {
   "cell_type": "markdown",
   "metadata": {},
   "source": [
    "- 可以看到两者人数都比较少，而且两者有一些共同特征（后续可以继续探索这些特征，获得更多发现）\n",
    "    - 都没有兄弟姐妹和父母在船上\n",
    "    - 都是成年或者准成年人"
   ]
  },
  {
   "cell_type": "code",
   "execution_count": 241,
   "metadata": {},
   "outputs": [
    {
     "data": {
      "text/html": [
       "<div>\n",
       "<style scoped>\n",
       "    .dataframe tbody tr th:only-of-type {\n",
       "        vertical-align: middle;\n",
       "    }\n",
       "\n",
       "    .dataframe tbody tr th {\n",
       "        vertical-align: top;\n",
       "    }\n",
       "\n",
       "    .dataframe thead th {\n",
       "        text-align: right;\n",
       "    }\n",
       "</style>\n",
       "<table border=\"1\" class=\"dataframe\">\n",
       "  <thead>\n",
       "    <tr style=\"text-align: right;\">\n",
       "      <th></th>\n",
       "      <th>PassengerId</th>\n",
       "      <th>Survived</th>\n",
       "      <th>Pclass</th>\n",
       "      <th>Sex</th>\n",
       "      <th>Age</th>\n",
       "      <th>SibSp</th>\n",
       "      <th>Parch</th>\n",
       "      <th>Fare</th>\n",
       "      <th>Lname</th>\n",
       "      <th>NamePrefix</th>\n",
       "    </tr>\n",
       "  </thead>\n",
       "  <tbody>\n",
       "    <tr>\n",
       "      <th>25</th>\n",
       "      <td>26</td>\n",
       "      <td>1</td>\n",
       "      <td>3</td>\n",
       "      <td>female</td>\n",
       "      <td>Adult</td>\n",
       "      <td>1</td>\n",
       "      <td>5</td>\n",
       "      <td>4_quartile</td>\n",
       "      <td>Asplund,</td>\n",
       "      <td>Mrs.</td>\n",
       "    </tr>\n",
       "    <tr>\n",
       "      <th>71</th>\n",
       "      <td>72</td>\n",
       "      <td>0</td>\n",
       "      <td>3</td>\n",
       "      <td>female</td>\n",
       "      <td>Teenager</td>\n",
       "      <td>5</td>\n",
       "      <td>2</td>\n",
       "      <td>4_quartile</td>\n",
       "      <td>Goodwin,</td>\n",
       "      <td>Miss.</td>\n",
       "    </tr>\n",
       "    <tr>\n",
       "      <th>119</th>\n",
       "      <td>120</td>\n",
       "      <td>0</td>\n",
       "      <td>3</td>\n",
       "      <td>female</td>\n",
       "      <td>Baby</td>\n",
       "      <td>4</td>\n",
       "      <td>2</td>\n",
       "      <td>4_quartile</td>\n",
       "      <td>Andersson,</td>\n",
       "      <td>Miss.</td>\n",
       "    </tr>\n",
       "    <tr>\n",
       "      <th>147</th>\n",
       "      <td>148</td>\n",
       "      <td>0</td>\n",
       "      <td>3</td>\n",
       "      <td>female</td>\n",
       "      <td>Child</td>\n",
       "      <td>2</td>\n",
       "      <td>2</td>\n",
       "      <td>4_quartile</td>\n",
       "      <td>Ford,</td>\n",
       "      <td>Miss.</td>\n",
       "    </tr>\n",
       "    <tr>\n",
       "      <th>180</th>\n",
       "      <td>181</td>\n",
       "      <td>0</td>\n",
       "      <td>3</td>\n",
       "      <td>female</td>\n",
       "      <td>pre_Adult</td>\n",
       "      <td>8</td>\n",
       "      <td>2</td>\n",
       "      <td>4_quartile</td>\n",
       "      <td>Sage,</td>\n",
       "      <td>Miss.</td>\n",
       "    </tr>\n",
       "    <tr>\n",
       "      <th>233</th>\n",
       "      <td>234</td>\n",
       "      <td>1</td>\n",
       "      <td>3</td>\n",
       "      <td>female</td>\n",
       "      <td>Baby</td>\n",
       "      <td>4</td>\n",
       "      <td>2</td>\n",
       "      <td>4_quartile</td>\n",
       "      <td>Asplund,</td>\n",
       "      <td>Miss.</td>\n",
       "    </tr>\n",
       "    <tr>\n",
       "      <th>436</th>\n",
       "      <td>437</td>\n",
       "      <td>0</td>\n",
       "      <td>3</td>\n",
       "      <td>female</td>\n",
       "      <td>pre_Adult</td>\n",
       "      <td>2</td>\n",
       "      <td>2</td>\n",
       "      <td>4_quartile</td>\n",
       "      <td>Ford,</td>\n",
       "      <td>Miss.</td>\n",
       "    </tr>\n",
       "    <tr>\n",
       "      <th>541</th>\n",
       "      <td>542</td>\n",
       "      <td>0</td>\n",
       "      <td>3</td>\n",
       "      <td>female</td>\n",
       "      <td>Child</td>\n",
       "      <td>4</td>\n",
       "      <td>2</td>\n",
       "      <td>4_quartile</td>\n",
       "      <td>Andersson,</td>\n",
       "      <td>Miss.</td>\n",
       "    </tr>\n",
       "    <tr>\n",
       "      <th>542</th>\n",
       "      <td>543</td>\n",
       "      <td>0</td>\n",
       "      <td>3</td>\n",
       "      <td>female</td>\n",
       "      <td>Child</td>\n",
       "      <td>4</td>\n",
       "      <td>2</td>\n",
       "      <td>4_quartile</td>\n",
       "      <td>Andersson,</td>\n",
       "      <td>Miss.</td>\n",
       "    </tr>\n",
       "    <tr>\n",
       "      <th>610</th>\n",
       "      <td>611</td>\n",
       "      <td>0</td>\n",
       "      <td>3</td>\n",
       "      <td>female</td>\n",
       "      <td>Adult</td>\n",
       "      <td>1</td>\n",
       "      <td>5</td>\n",
       "      <td>4_quartile</td>\n",
       "      <td>Andersson,</td>\n",
       "      <td>Mrs.</td>\n",
       "    </tr>\n",
       "    <tr>\n",
       "      <th>638</th>\n",
       "      <td>639</td>\n",
       "      <td>0</td>\n",
       "      <td>3</td>\n",
       "      <td>female</td>\n",
       "      <td>Adult</td>\n",
       "      <td>0</td>\n",
       "      <td>5</td>\n",
       "      <td>4_quartile</td>\n",
       "      <td>Panula,</td>\n",
       "      <td>Mrs.</td>\n",
       "    </tr>\n",
       "    <tr>\n",
       "      <th>678</th>\n",
       "      <td>679</td>\n",
       "      <td>0</td>\n",
       "      <td>3</td>\n",
       "      <td>female</td>\n",
       "      <td>Adult</td>\n",
       "      <td>1</td>\n",
       "      <td>6</td>\n",
       "      <td>4_quartile</td>\n",
       "      <td>Goodwin,</td>\n",
       "      <td>Mrs.</td>\n",
       "    </tr>\n",
       "    <tr>\n",
       "      <th>736</th>\n",
       "      <td>737</td>\n",
       "      <td>0</td>\n",
       "      <td>3</td>\n",
       "      <td>female</td>\n",
       "      <td>Adult</td>\n",
       "      <td>1</td>\n",
       "      <td>3</td>\n",
       "      <td>4_quartile</td>\n",
       "      <td>Ford,</td>\n",
       "      <td>Mrs.</td>\n",
       "    </tr>\n",
       "    <tr>\n",
       "      <th>792</th>\n",
       "      <td>793</td>\n",
       "      <td>0</td>\n",
       "      <td>3</td>\n",
       "      <td>female</td>\n",
       "      <td>pre_Adult</td>\n",
       "      <td>8</td>\n",
       "      <td>2</td>\n",
       "      <td>4_quartile</td>\n",
       "      <td>Sage,</td>\n",
       "      <td>Miss.</td>\n",
       "    </tr>\n",
       "    <tr>\n",
       "      <th>813</th>\n",
       "      <td>814</td>\n",
       "      <td>0</td>\n",
       "      <td>3</td>\n",
       "      <td>female</td>\n",
       "      <td>Child</td>\n",
       "      <td>4</td>\n",
       "      <td>2</td>\n",
       "      <td>4_quartile</td>\n",
       "      <td>Andersson,</td>\n",
       "      <td>Miss.</td>\n",
       "    </tr>\n",
       "    <tr>\n",
       "      <th>863</th>\n",
       "      <td>864</td>\n",
       "      <td>0</td>\n",
       "      <td>3</td>\n",
       "      <td>female</td>\n",
       "      <td>pre_Adult</td>\n",
       "      <td>8</td>\n",
       "      <td>2</td>\n",
       "      <td>4_quartile</td>\n",
       "      <td>Sage,</td>\n",
       "      <td>Miss.</td>\n",
       "    </tr>\n",
       "  </tbody>\n",
       "</table>\n",
       "</div>"
      ],
      "text/plain": [
       "     PassengerId  Survived  Pclass     Sex        Age  SibSp  Parch  \\\n",
       "25            26         1       3  female      Adult      1      5   \n",
       "71            72         0       3  female   Teenager      5      2   \n",
       "119          120         0       3  female       Baby      4      2   \n",
       "147          148         0       3  female      Child      2      2   \n",
       "180          181         0       3  female  pre_Adult      8      2   \n",
       "233          234         1       3  female       Baby      4      2   \n",
       "436          437         0       3  female  pre_Adult      2      2   \n",
       "541          542         0       3  female      Child      4      2   \n",
       "542          543         0       3  female      Child      4      2   \n",
       "610          611         0       3  female      Adult      1      5   \n",
       "638          639         0       3  female      Adult      0      5   \n",
       "678          679         0       3  female      Adult      1      6   \n",
       "736          737         0       3  female      Adult      1      3   \n",
       "792          793         0       3  female  pre_Adult      8      2   \n",
       "813          814         0       3  female      Child      4      2   \n",
       "863          864         0       3  female  pre_Adult      8      2   \n",
       "\n",
       "           Fare       Lname NamePrefix  \n",
       "25   4_quartile    Asplund,       Mrs.  \n",
       "71   4_quartile    Goodwin,      Miss.  \n",
       "119  4_quartile  Andersson,      Miss.  \n",
       "147  4_quartile       Ford,      Miss.  \n",
       "180  4_quartile       Sage,      Miss.  \n",
       "233  4_quartile    Asplund,      Miss.  \n",
       "436  4_quartile       Ford,      Miss.  \n",
       "541  4_quartile  Andersson,      Miss.  \n",
       "542  4_quartile  Andersson,      Miss.  \n",
       "610  4_quartile  Andersson,       Mrs.  \n",
       "638  4_quartile     Panula,       Mrs.  \n",
       "678  4_quartile    Goodwin,       Mrs.  \n",
       "736  4_quartile       Ford,       Mrs.  \n",
       "792  4_quartile       Sage,      Miss.  \n",
       "813  4_quartile  Andersson,      Miss.  \n",
       "863  4_quartile       Sage,      Miss.  "
      ]
     },
     "execution_count": 241,
     "metadata": {},
     "output_type": "execute_result"
    }
   ],
   "source": [
    "# 下层阶级女性，票价最高档次的人\n",
    "data_train.loc[(data_train['Sex']=='female') & (data_train['Pclass'] == 3) & (data_train['Fare'] == '4_quartile')]"
   ]
  },
  {
   "cell_type": "markdown",
   "metadata": {},
   "source": [
    "我们看到在这个样本中，下层阶级、票价最高档次的女性人数不算很少；但生还率比同样是下层阶级、票价最高档次的男性还要略低"
   ]
  },
  {
   "cell_type": "markdown",
   "metadata": {},
   "source": [
    "综合以上所有，总体而言：   \n",
    "* 有些特征之间信息可能有部分重叠，比如NamePrefix和Sex，比如阶级和票价，比如Lname和Parch\n",
    "* 以上所有图示有可能是随机现象，所有观察结论仅代表现有的数据样本"
   ]
  },
  {
   "cell_type": "markdown",
   "metadata": {},
   "source": [
    "### 分离数据"
   ]
  },
  {
   "cell_type": "code",
   "execution_count": 122,
   "metadata": {},
   "outputs": [
    {
     "name": "stdout",
     "output_type": "stream",
     "text": [
      "<class 'pandas.core.frame.DataFrame'>\n",
      "RangeIndex: 891 entries, 0 to 890\n",
      "Data columns (total 10 columns):\n",
      "PassengerId    891 non-null int64\n",
      "Survived       891 non-null int64\n",
      "Pclass         891 non-null int64\n",
      "Sex            891 non-null object\n",
      "Age            891 non-null category\n",
      "SibSp          891 non-null int64\n",
      "Parch          891 non-null int64\n",
      "Fare           891 non-null category\n",
      "Lname          891 non-null object\n",
      "NamePrefix     891 non-null object\n",
      "dtypes: category(2), int64(5), object(3)\n",
      "memory usage: 58.1+ KB\n"
     ]
    }
   ],
   "source": [
    "data_train.info()"
   ]
  },
  {
   "cell_type": "code",
   "execution_count": 123,
   "metadata": {},
   "outputs": [],
   "source": [
    "from sklearn import preprocessing\n",
    "\n",
    "# 生成示性变量\n",
    "def encode_features(df_train, df_test):\n",
    "    features = ['Fare', 'Age', 'Sex','Lname','NamePrefix']\n",
    "    df = pd.concat([df_train[features], df_test[features]])\n",
    "    \n",
    "    for f in features:\n",
    "        le = preprocessing.LabelEncoder()\n",
    "        le = le.fit(df[f])\n",
    "        df_train[f] = le.transform(df_train[f])\n",
    "        df_test[f] = le.transform(df_test[f])\n",
    "    \n",
    "    return df_train, df_test\n",
    "    "
   ]
  },
  {
   "cell_type": "code",
   "execution_count": 124,
   "metadata": {},
   "outputs": [],
   "source": [
    "data_train, data_test = encode_features(data_train, data_test)"
   ]
  },
  {
   "cell_type": "code",
   "execution_count": 125,
   "metadata": {},
   "outputs": [
    {
     "data": {
      "text/html": [
       "<div>\n",
       "<style scoped>\n",
       "    .dataframe tbody tr th:only-of-type {\n",
       "        vertical-align: middle;\n",
       "    }\n",
       "\n",
       "    .dataframe tbody tr th {\n",
       "        vertical-align: top;\n",
       "    }\n",
       "\n",
       "    .dataframe thead th {\n",
       "        text-align: right;\n",
       "    }\n",
       "</style>\n",
       "<table border=\"1\" class=\"dataframe\">\n",
       "  <thead>\n",
       "    <tr style=\"text-align: right;\">\n",
       "      <th></th>\n",
       "      <th>PassengerId</th>\n",
       "      <th>Survived</th>\n",
       "      <th>Pclass</th>\n",
       "      <th>Sex</th>\n",
       "      <th>Age</th>\n",
       "      <th>SibSp</th>\n",
       "      <th>Parch</th>\n",
       "      <th>Fare</th>\n",
       "      <th>Lname</th>\n",
       "      <th>NamePrefix</th>\n",
       "    </tr>\n",
       "  </thead>\n",
       "  <tbody>\n",
       "    <tr>\n",
       "      <th>0</th>\n",
       "      <td>1</td>\n",
       "      <td>0</td>\n",
       "      <td>3</td>\n",
       "      <td>1</td>\n",
       "      <td>6</td>\n",
       "      <td>1</td>\n",
       "      <td>0</td>\n",
       "      <td>0</td>\n",
       "      <td>100</td>\n",
       "      <td>19</td>\n",
       "    </tr>\n",
       "    <tr>\n",
       "      <th>1</th>\n",
       "      <td>2</td>\n",
       "      <td>1</td>\n",
       "      <td>1</td>\n",
       "      <td>0</td>\n",
       "      <td>0</td>\n",
       "      <td>1</td>\n",
       "      <td>0</td>\n",
       "      <td>3</td>\n",
       "      <td>182</td>\n",
       "      <td>20</td>\n",
       "    </tr>\n",
       "    <tr>\n",
       "      <th>2</th>\n",
       "      <td>3</td>\n",
       "      <td>1</td>\n",
       "      <td>3</td>\n",
       "      <td>0</td>\n",
       "      <td>6</td>\n",
       "      <td>0</td>\n",
       "      <td>0</td>\n",
       "      <td>0</td>\n",
       "      <td>329</td>\n",
       "      <td>16</td>\n",
       "    </tr>\n",
       "    <tr>\n",
       "      <th>3</th>\n",
       "      <td>4</td>\n",
       "      <td>1</td>\n",
       "      <td>1</td>\n",
       "      <td>0</td>\n",
       "      <td>0</td>\n",
       "      <td>1</td>\n",
       "      <td>0</td>\n",
       "      <td>3</td>\n",
       "      <td>267</td>\n",
       "      <td>20</td>\n",
       "    </tr>\n",
       "    <tr>\n",
       "      <th>4</th>\n",
       "      <td>5</td>\n",
       "      <td>0</td>\n",
       "      <td>3</td>\n",
       "      <td>1</td>\n",
       "      <td>0</td>\n",
       "      <td>0</td>\n",
       "      <td>0</td>\n",
       "      <td>1</td>\n",
       "      <td>15</td>\n",
       "      <td>19</td>\n",
       "    </tr>\n",
       "  </tbody>\n",
       "</table>\n",
       "</div>"
      ],
      "text/plain": [
       "   PassengerId  Survived  Pclass  Sex  Age  SibSp  Parch  Fare  Lname  \\\n",
       "0            1         0       3    1    6      1      0     0    100   \n",
       "1            2         1       1    0    0      1      0     3    182   \n",
       "2            3         1       3    0    6      0      0     0    329   \n",
       "3            4         1       1    0    0      1      0     3    267   \n",
       "4            5         0       3    1    0      0      0     1     15   \n",
       "\n",
       "   NamePrefix  \n",
       "0          19  \n",
       "1          20  \n",
       "2          16  \n",
       "3          20  \n",
       "4          19  "
      ]
     },
     "execution_count": 125,
     "metadata": {},
     "output_type": "execute_result"
    }
   ],
   "source": [
    "data_train.head()"
   ]
  },
  {
   "cell_type": "code",
   "execution_count": 126,
   "metadata": {},
   "outputs": [],
   "source": [
    "from sklearn.model_selection import train_test_split\n",
    "\n",
    "X_all = data_train.drop(['Survived', 'PassengerId'], axis=1)\n",
    "y_all = data_train['Survived']\n",
    "\n",
    "num_test = 0.2\n",
    "\n",
    "X_train, X_test, y_train, y_test = train_test_split(X_all, y_all, test_size=num_test, random_state=42)\n",
    "\n"
   ]
  },
  {
   "cell_type": "markdown",
   "metadata": {},
   "source": [
    "### 参数调整，模型拟合"
   ]
  },
  {
   "cell_type": "code",
   "execution_count": 127,
   "metadata": {},
   "outputs": [],
   "source": [
    "from sklearn.ensemble import RandomForestClassifier\n",
    "from sklearn.ensemble import AdaBoostClassifier\n",
    "from sklearn.tree import DecisionTreeClassifier\n",
    "from sklearn.naive_bayes import GaussianNB\n",
    "from sklearn.svm import SVC\n",
    "\n",
    "from sklearn.metrics import make_scorer, accuracy_score\n",
    "from sklearn.model_selection import GridSearchCV"
   ]
  },
  {
   "cell_type": "code",
   "execution_count": 151,
   "metadata": {},
   "outputs": [
    {
     "data": {
      "text/plain": [
       "Pipeline(memory=None,\n",
       "     steps=[('select_features', SelectKBest(k=5, score_func=<function f_classif at 0x1a1dfb1938>)), ('clf', RandomForestClassifier(bootstrap=True, class_weight=None, criterion='entropy',\n",
       "            max_depth=5, max_features='log2', max_leaf_nodes=None,\n",
       "            min_impurity_decrease=0.0, min_impurity...stimators=10, n_jobs=1,\n",
       "            oob_score=False, random_state=42, verbose=0, warm_start=False))])"
      ]
     },
     "execution_count": 151,
     "metadata": {},
     "output_type": "execute_result"
    }
   ],
   "source": [
    "# 选择分类器\n",
    "clf1 = RandomForestClassifier(random_state=42)\n",
    "\n",
    "\n",
    "# 设置参数字典\n",
    "\n",
    "clf1 = Pipeline([\n",
    "    ('select_features', SelectKBest(k=5)),\n",
    "    ('clf', RandomForestClassifier(random_state=42)),\n",
    "])\n",
    "\n",
    "parameters1 = dict(clf__n_estimators = [4, 6, 10], \n",
    "                   clf__max_features = ['log2', 'sqrt','auto'], \n",
    "                   clf__criterion =  ['entropy', 'gini'],\n",
    "                   clf__max_depth =  [2, 3, 5, 10,15], \n",
    "                   clf__min_samples_split = [2, 3, 5, 10],\n",
    "                   clf__min_samples_leaf = [1,5,8])\n",
    "\n",
    "\n",
    "\n",
    "# 选择评价标准\n",
    "acc_scorer = make_scorer(accuracy_score)\n",
    "\n",
    "# 遍历参数组合\n",
    "grid_obj = GridSearchCV(clf1, parameters1, scoring=acc_scorer)\n",
    "grid_obj = grid_obj.fit(X_train, y_train)\n",
    "\n",
    "# 选择分数最高的分类器\n",
    "clf1 = grid_obj.best_estimator_\n",
    "\n",
    "# 拟合模型\n",
    "clf1.fit(X_train, y_train)\n",
    "\n"
   ]
  },
  {
   "cell_type": "code",
   "execution_count": 152,
   "metadata": {},
   "outputs": [
    {
     "name": "stdout",
     "output_type": "stream",
     "text": [
      "0.804469273743\n"
     ]
    }
   ],
   "source": [
    "predictions = clf1.predict(X_test)\n",
    "print(accuracy_score(y_test, predictions))"
   ]
  },
  {
   "cell_type": "code",
   "execution_count": null,
   "metadata": {},
   "outputs": [],
   "source": [
    "'''\n",
    "clf2 = AdaBoostClassifier(n_estimators=10,random_state=42)\n",
    "\n",
    "parameters2 = {'base_estimator': [DecisionTreeClassifier(), RandomForestClassifier(), GaussianNB()], \n",
    "                  'n_estimators': [20,50,80,110,140],\n",
    "                  'learning_rate': [0.3,0.5,0.8,1.,1.5]}\n",
    "\n",
    "\n",
    "acc_scorer = make_scorer(accuracy_score)\n",
    "grid_obj = GridSearchCV(clf2, parameters2, scoring=acc_scorer)\n",
    "\n",
    "#grid_obj.get_params().keys()\n",
    "grid_obj = grid_obj.fit(X_train, y_train)\n",
    "clf2 = grid_obj.best_estimator_\n",
    "\n",
    "clf2.fit(X_train, y_train)\n",
    "'''"
   ]
  },
  {
   "cell_type": "code",
   "execution_count": 161,
   "metadata": {},
   "outputs": [
    {
     "data": {
      "text/plain": [
       "Pipeline(memory=None,\n",
       "     steps=[('select_features', SelectKBest(k=5, score_func=<function f_classif at 0x1a1dfb1938>)), ('clf', DecisionTreeClassifier(class_weight=None, criterion='entropy', max_depth=None,\n",
       "            max_features=None, max_leaf_nodes=None,\n",
       "            min_impurity_decrease=0.0, min_impurity_split=None,\n",
       "            min_samples_leaf=1, min_samples_split=6,\n",
       "            min_weight_fraction_leaf=0.0, presort=False, random_state=42,\n",
       "            splitter='best'))])"
      ]
     },
     "execution_count": 161,
     "metadata": {},
     "output_type": "execute_result"
    }
   ],
   "source": [
    "from sklearn.pipeline import Pipeline\n",
    "from sklearn.feature_selection import SelectKBest\n",
    "\n",
    "clf2 = Pipeline([\n",
    "    ('select_features', SelectKBest(k=5)),\n",
    "    ('clf', DecisionTreeClassifier(random_state=42)),\n",
    "])\n",
    "\n",
    "#clf2 = DecisionTreeClassifier(random_state=42)\n",
    "\n",
    "parameters2 = dict(clf__criterion = ['gini', 'entropy'], \n",
    "                  clf__min_samples_split = [2,4,6,8,10],\n",
    "                  clf__max_depth = [None,5,10,15,20,40],\n",
    "                  clf__max_features = [None, 'sqrt', 'log2', 'auto'],\n",
    "                  clf__splitter = ['best','random'])\n",
    "\n",
    "'''{'criterion': ['gini', 'entropy'], \n",
    "                'min_samples_split': [2,4,6,8,10],\n",
    "                'max_depth': [None,5,10,15,20],\n",
    "                'max_features':[None, 'sqrt', 'log2', 'auto'],\n",
    "                'splitter':['best','random']}'''\n",
    "\n",
    "acc_scorer = make_scorer(accuracy_score)\n",
    "grid_obj = GridSearchCV(clf2, parameters2, scoring=acc_scorer)\n",
    "\n",
    "#grid_obj.get_params().keys()\n",
    "grid_obj = grid_obj.fit(X_train, y_train)\n",
    "clf2 = grid_obj.best_estimator_\n",
    "\n",
    "clf2.fit(X_train, y_train)"
   ]
  },
  {
   "cell_type": "code",
   "execution_count": 162,
   "metadata": {
    "scrolled": true
   },
   "outputs": [
    {
     "name": "stdout",
     "output_type": "stream",
     "text": [
      "0.837988826816\n"
     ]
    }
   ],
   "source": [
    "predictions2 = clf2.predict(X_test)\n",
    "print(accuracy_score(y_test, predictions2))"
   ]
  },
  {
   "cell_type": "code",
   "execution_count": 138,
   "metadata": {
    "scrolled": true
   },
   "outputs": [
    {
     "data": {
      "text/plain": [
       "SVC(C=1, cache_size=200, class_weight=None, coef0=0.0,\n",
       "  decision_function_shape='ovo', degree=3, gamma='auto', kernel='rbf',\n",
       "  max_iter=-1, probability=False, random_state=42, shrinking=True,\n",
       "  tol=0.001, verbose=False)"
      ]
     },
     "execution_count": 138,
     "metadata": {},
     "output_type": "execute_result"
    }
   ],
   "source": [
    "clf3 = SVC(kernel=\"rbf\")\n",
    "\n",
    "parameters3 = {'C': [1, 10, 100, 1000,10000], \n",
    "                  'max_iter': [-1, 10, 50,100],\n",
    "                  'shrinking': [True, False],\n",
    "                   'random_state':[42],\n",
    "                  'decision_function_shape': ['ovo', 'ovr', 'ovr']}\n",
    "\n",
    "acc_scorer = make_scorer(accuracy_score)\n",
    "grid_obj = GridSearchCV(clf3, parameters3, scoring=acc_scorer)\n",
    "\n",
    "#grid_obj.get_params().keys()\n",
    "grid_obj = grid_obj.fit(X_train, y_train)\n",
    "clf3 = grid_obj.best_estimator_\n",
    "\n",
    "clf3.fit(X_train, y_train)"
   ]
  },
  {
   "cell_type": "code",
   "execution_count": 139,
   "metadata": {},
   "outputs": [
    {
     "name": "stdout",
     "output_type": "stream",
     "text": [
      "0.597765363128\n"
     ]
    }
   ],
   "source": [
    "predictions3 = clf3.predict(X_test)\n",
    "print(accuracy_score(y_test, predictions3))"
   ]
  },
  {
   "cell_type": "markdown",
   "metadata": {},
   "source": [
    "### 交叉验证"
   ]
  },
  {
   "cell_type": "code",
   "execution_count": 140,
   "metadata": {},
   "outputs": [],
   "source": [
    "from sklearn.cross_validation import KFold\n",
    "\n",
    "def run_kfold(clf):\n",
    "    kf = KFold(891, n_folds=10, random_state=42)\n",
    "    print kf\n",
    "    outcomes = []\n",
    "    fold = 0\n",
    "\n",
    "    for train_index, test_index in kf:            \n",
    "        fold += 1\n",
    "        X_train, X_test = X_all.values[train_index], X_all.values[test_index]\n",
    "        y_train, y_test = y_all.values[train_index], y_all.values[test_index]\n",
    "        \n",
    "        clf.fit(X_train, y_train)\n",
    "        predictions = clf.predict(X_test)\n",
    "        accuracy = accuracy_score(y_test, predictions)\n",
    "        outcomes.append(accuracy)\n",
    "        print \"Fold {0} accuracy: {1}\".format(fold, accuracy) \n",
    "\n",
    "\n",
    "    mean_outcome = np.mean(outcomes)\n",
    "    print '\\n'\n",
    "    print \"Mean Accuracy: {0}\".format(mean_outcome)\n",
    "\n"
   ]
  },
  {
   "cell_type": "code",
   "execution_count": 157,
   "metadata": {},
   "outputs": [
    {
     "name": "stdout",
     "output_type": "stream",
     "text": [
      "sklearn.cross_validation.KFold(n=891, n_folds=10, shuffle=False, random_state=42)\n",
      "Fold 1 accuracy: 0.8\n",
      "Fold 2 accuracy: 0.865168539326\n",
      "Fold 3 accuracy: 0.797752808989\n",
      "Fold 4 accuracy: 0.85393258427\n",
      "Fold 5 accuracy: 0.85393258427\n",
      "Fold 6 accuracy: 0.808988764045\n",
      "Fold 7 accuracy: 0.775280898876\n",
      "Fold 8 accuracy: 0.786516853933\n",
      "Fold 9 accuracy: 0.876404494382\n",
      "Fold 10 accuracy: 0.797752808989\n",
      "\n",
      "\n",
      "Mean Accuracy: 0.821573033708\n"
     ]
    }
   ],
   "source": [
    "run_kfold(clf1)"
   ]
  },
  {
   "cell_type": "code",
   "execution_count": 163,
   "metadata": {
    "scrolled": false
   },
   "outputs": [
    {
     "name": "stdout",
     "output_type": "stream",
     "text": [
      "sklearn.cross_validation.KFold(n=891, n_folds=10, shuffle=False, random_state=42)\n",
      "Fold 1 accuracy: 0.722222222222\n",
      "Fold 2 accuracy: 0.842696629213\n",
      "Fold 3 accuracy: 0.808988764045\n",
      "Fold 4 accuracy: 0.831460674157\n",
      "Fold 5 accuracy: 0.842696629213\n",
      "Fold 6 accuracy: 0.831460674157\n",
      "Fold 7 accuracy: 0.786516853933\n",
      "Fold 8 accuracy: 0.797752808989\n",
      "Fold 9 accuracy: 0.865168539326\n",
      "Fold 10 accuracy: 0.842696629213\n",
      "\n",
      "\n",
      "Mean Accuracy: 0.817166042447\n"
     ]
    }
   ],
   "source": [
    "run_kfold(clf2)"
   ]
  },
  {
   "cell_type": "code",
   "execution_count": 144,
   "metadata": {},
   "outputs": [
    {
     "name": "stdout",
     "output_type": "stream",
     "text": [
      "sklearn.cross_validation.KFold(n=891, n_folds=10, shuffle=False, random_state=42)\n",
      "Fold 1 accuracy: 0.633333333333\n",
      "Fold 2 accuracy: 0.707865168539\n",
      "Fold 3 accuracy: 0.640449438202\n",
      "Fold 4 accuracy: 0.539325842697\n",
      "Fold 5 accuracy: 0.595505617978\n",
      "Fold 6 accuracy: 0.61797752809\n",
      "Fold 7 accuracy: 0.550561797753\n",
      "Fold 8 accuracy: 0.61797752809\n",
      "Fold 9 accuracy: 0.674157303371\n",
      "Fold 10 accuracy: 0.61797752809\n",
      "\n",
      "\n",
      "Mean Accuracy: 0.619513108614\n"
     ]
    }
   ],
   "source": [
    "run_kfold(clf3)"
   ]
  },
  {
   "cell_type": "markdown",
   "metadata": {},
   "source": [
    "- 从上面的结果来看，随机森林鲁棒性相对更高；决策树第一折分数较低，整体也不错\n",
    "- 支持向量机由于是全量特征建模，所以效果不好"
   ]
  },
  {
   "cell_type": "markdown",
   "metadata": {},
   "source": [
    "## 预测数据"
   ]
  },
  {
   "cell_type": "code",
   "execution_count": 153,
   "metadata": {},
   "outputs": [
    {
     "data": {
      "text/html": [
       "<div>\n",
       "<style scoped>\n",
       "    .dataframe tbody tr th:only-of-type {\n",
       "        vertical-align: middle;\n",
       "    }\n",
       "\n",
       "    .dataframe tbody tr th {\n",
       "        vertical-align: top;\n",
       "    }\n",
       "\n",
       "    .dataframe thead th {\n",
       "        text-align: right;\n",
       "    }\n",
       "</style>\n",
       "<table border=\"1\" class=\"dataframe\">\n",
       "  <thead>\n",
       "    <tr style=\"text-align: right;\">\n",
       "      <th></th>\n",
       "      <th>PassengerId</th>\n",
       "      <th>Survived</th>\n",
       "    </tr>\n",
       "  </thead>\n",
       "  <tbody>\n",
       "    <tr>\n",
       "      <th>0</th>\n",
       "      <td>892</td>\n",
       "      <td>0</td>\n",
       "    </tr>\n",
       "    <tr>\n",
       "      <th>1</th>\n",
       "      <td>893</td>\n",
       "      <td>0</td>\n",
       "    </tr>\n",
       "    <tr>\n",
       "      <th>2</th>\n",
       "      <td>894</td>\n",
       "      <td>0</td>\n",
       "    </tr>\n",
       "    <tr>\n",
       "      <th>3</th>\n",
       "      <td>895</td>\n",
       "      <td>0</td>\n",
       "    </tr>\n",
       "    <tr>\n",
       "      <th>4</th>\n",
       "      <td>896</td>\n",
       "      <td>1</td>\n",
       "    </tr>\n",
       "  </tbody>\n",
       "</table>\n",
       "</div>"
      ],
      "text/plain": [
       "   PassengerId  Survived\n",
       "0          892         0\n",
       "1          893         0\n",
       "2          894         0\n",
       "3          895         0\n",
       "4          896         1"
      ]
     },
     "execution_count": 153,
     "metadata": {},
     "output_type": "execute_result"
    }
   ],
   "source": [
    "ids = data_test['PassengerId']\n",
    "predictions = clf1.predict(data_test.drop('PassengerId', axis=1))\n",
    "\n",
    "predictions2 = clf2.predict(data_test.drop('PassengerId', axis=1))\n",
    "predictions3 = clf2.predict(data_test.drop('PassengerId', axis=1))\n",
    "\n",
    "output = pd.DataFrame({ 'PassengerId' : ids, 'Survived': predictions })\n",
    "# output.to_csv('titanic-predictions.csv', index = False)\n",
    "output.head()"
   ]
  },
  {
   "cell_type": "code",
   "execution_count": 155,
   "metadata": {},
   "outputs": [],
   "source": [
    "output.to_csv('titanic-predictions1.csv', index=False)"
   ]
  },
  {
   "cell_type": "markdown",
   "metadata": {},
   "source": [
    "### 通过以上步骤，在Kaggle的最终测试集上：\n",
    "- 随机森林输出结果的得分最高，为0.79425，决策树输出结果的得分为0.77990\n",
    "- 但由于随机森林是集成学习算法，运行速度上比决策树慢了许多\n",
    "- 以上结果算不上好，截止3月29号排在前22%，后续还需要继续调整"
   ]
  },
  {
   "cell_type": "markdown",
   "metadata": {},
   "source": [
    "### 针对训练数据集的描述性结论：\n",
    "- **性别上**：\n",
    "    - 整体而言，女性比男性生还率显著更高\n",
    "\n",
    "- **年龄上**：\n",
    "    - 在年龄较小阶段（婴儿和儿童时期），生还率和性别的关系不太明显，不管是男还是女，婴儿的生还率高于儿童；\n",
    "    - 在青年（12岁）及以后的年龄阶段，女性的生还率明显高于男性；\n",
    "    - 在青年及以后的年龄阶段，女性随着年龄的增长，生还率先下降后上升；男性随着年龄的增长生还率先上升后下降。\n",
    "\n",
    "- **社会阶层上**：\n",
    "    - 无论男性还是女性，社会阶级地位越高，生还率越高\n",
    "    - 女性生还率整体都比男性高，甚至下层阶级的女性都要略高于上层阶级的男性\n",
    "    - 女性上层阶级和中层阶级生还率差异不大，下层阶级女性有一个比较明显的下降；而男性是在中层阶级生还率就明显下降，中层和下层阶级差异不大\n",
    "    \n",
    "- **票价上**：\n",
    "    - 上层阶级，票价都在中等档次及以上；随着票价增加，男性生还率下降，女性生还率增加\n",
    "    - 中层阶级票价相对平衡，不同性别的票价和生还率的关系和整体趋势比较一致，即男女生还率都随票价增长\n",
    "    - 上层和中层阶级中，票价最低档次的男性，生还率为0，这些人都没有家庭成员在船上，都在16岁到48岁之间\n",
    "    - 下层阶级票价低的多，票价高的少；随着票价增加，男性生还率是上升的，女性生还率总体却在下降\n",
    "    \n",
    "- **不同性别的生还率，从阶级和票价中反映出了较大的差异性**：\n",
    "    - 尽管女性总体的生还率高，但下层阶级女性的票价越高，她们的生还率反而越低，这与上层阶级的女性是相反的\n",
    "    - 下层阶级的女性购买最低档次的票价，还可以得到照顾，生还率能到0.7；下层阶级女性购买最高档次的票价，却不会受到更多优待，生还率只有0.1；这与同样购买最高档次票价的上层和中层阶级女性（0.9左右），形成鲜明对比\n",
    "    - 尽管男性总体的生还率低，但下层阶级男性的票价越高，他们的生还率是在上升的，这与上层阶级的男性是相反的\n",
    "\n"
   ]
  },
  {
   "cell_type": "markdown",
   "metadata": {},
   "source": [
    "#### 注：以上细分出来的差异，目前只是该样本的观察结果，很可能因为细分出的生还率所对应分组的分母大小不一样，导致没有统计上的显著性。\n",
    "* 尽管如此，我们仍然能够初步实现我们的目的，即：找出大致什么特征的人会生还——\n",
    "    - 上层和中层阶级的12岁以上的女性，以及中层阶级12岁以下的婴儿和孩子，生还率最高，几乎所有都生还了\n",
    "    - 其次的是下层阶级的12岁以下婴儿和孩子（上层阶级一共只有1个女婴，未生还）\n",
    "    - 再其次是下层阶级的12岁以上的女性，这部分女性中，票价高的生还率反而更低；\n",
    "    - 然后是上层阶级的男性（全为16岁以上）\n",
    "    - 最后是中层和下层阶级中12岁以上的男性，这部分男性生还率最低；但在这部分群体中，票价高的生还率要高于票价低的\n",
    "    \n"
   ]
  },
  {
   "cell_type": "markdown",
   "metadata": {},
   "source": [
    "可以主观推测的一些原因（无法绝对验证）：\n",
    "* 成年男性，尤其是中下层的，或者没有家庭成员在船上的成年男性，可能承担了较多的营救妇女和少儿的责任\n",
    "* 下层女性购买高票价，可能受到了同样购买高票价的中上层阶级的不认同和不公平待遇\n",
    "* 付出高票价的下层阶级成年男性，可能倾向于注重享乐，缺少责任感"
   ]
  }
 ],
 "metadata": {
  "kernelspec": {
   "display_name": "Python 2",
   "language": "python",
   "name": "python2"
  },
  "language_info": {
   "codemirror_mode": {
    "name": "ipython",
    "version": 2
   },
   "file_extension": ".py",
   "mimetype": "text/x-python",
   "name": "python",
   "nbconvert_exporter": "python",
   "pygments_lexer": "ipython2",
   "version": "2.7.14"
  }
 },
 "nbformat": 4,
 "nbformat_minor": 2
}
